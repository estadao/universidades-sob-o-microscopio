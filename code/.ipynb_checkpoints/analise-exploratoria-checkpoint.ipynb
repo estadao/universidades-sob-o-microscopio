{
 "cells": [
  {
   "cell_type": "markdown",
   "metadata": {},
   "source": [
    "# Quais são as universidades de excelência no Brasil, segundo os dados do Lieden Ranking?"
   ]
  },
  {
   "cell_type": "markdown",
   "metadata": {},
   "source": [
    "O objetivo desta análise é encontrar centros de excelência em pesquisa nas universidades brasileiras. Entretanto, definir **excelência universiária** não é tarefa simples. \n",
    "\n",
    "Usualmente, as avaliações acadêmicas usam critérios de impacto científico – ou seja, uma avaliação quantitativa de publicações e citações – para determinar quais são os programas e instituições de destaque. O uso dsse tipo de métrica, porém, é questionado por pesquisadores e cientometristas por carregar uma série de viéses.\n",
    "\n",
    "Usar uma contagem simples do número de artigos publicados ou citações para definir quais instituições estão fazendo um bom trabalho pode, por exemplo, destacar apenas as universidades que concentram suas pesquisas em áreas onde, pela própria natureza do campo, costuma-se publicar e citar mais. Ciências exatas e biológicas, nesse caso, seriam privilegiadas em detrimento das ciênciais sociais e humanas.\n",
    "\n",
    "Esse problema ocorre também dentro de um mesmo campo científico: pesquisas sobre câncer, por exemplo, tendem a ser mais citadas que pesquisas sobre doenças tropicais, ainda que estas últimas sejam muito relevantes para a saúde brasileira.\n",
    "\n",
    "Para minimizar esses problemas, optamos por usar os dados do [Lieden Ranking](https://www.leidenranking.com) como ponto de início para nossa reportagem. Eles não oferecem apenas um número mágico, como outros rankings universitários, mas sim indicadores de impacto e produtividade segmentados por campo do conhecimento. Além disso, trazem outros dados de interesse, como paridade de gênero entre pesquisadores, quantidade de artigos publicados em portais de acesso aberto e métricas de colaboração entre instituições de países diferentes. Com isso, podemos olhar para diferentes aspectos na hora de procurar universidades que se destacam.\n",
    "\n",
    "Com os dados em mãos, vamos procurar instituições com maior impacto nas [cinco áreas do conhecimento identificadas pelo ranking](https://www.leidenranking.com/information/fields), usando tanto uma contagem absoluta de artigos quanto números relativos. Além disso, também queremos encontrar as universidades que se destacam nos critérios de **colaboração internacional**, **publicação de artigos de acesso aberto** e **paridade de gênero**.\n"
   ]
  },
  {
   "cell_type": "markdown",
   "metadata": {},
   "source": [
    "## 1. Importar pacotes"
   ]
  },
  {
   "cell_type": "code",
   "execution_count": 1,
   "metadata": {
    "collapsed": true
   },
   "outputs": [],
   "source": [
    "# Importa o pacote pandas, que implementa funções de análise de dados\n",
    "import pandas as pd"
   ]
  },
  {
   "cell_type": "markdown",
   "metadata": {},
   "source": [
    "## 2. Acessar dados"
   ]
  },
  {
   "cell_type": "code",
   "execution_count": 2,
   "metadata": {
    "code_folding": [],
    "collapsed": true
   },
   "outputs": [],
   "source": [
    "# Lê a aba \"Results\" do arquivo Excel com os dados do ranking\n",
    "with pd.ExcelFile(\"../data/CWTS Leiden Ranking 2019.xlsx\") as xls:\n",
    "    df = pd.read_excel(xls, 'Results')"
   ]
  },
  {
   "cell_type": "markdown",
   "metadata": {},
   "source": [
    "## 3. Descrição e seleção dos campos de interesse"
   ]
  },
  {
   "cell_type": "markdown",
   "metadata": {},
   "source": [
    "Estes são os campos do banco de dados."
   ]
  },
  {
   "cell_type": "code",
   "execution_count": 3,
   "metadata": {},
   "outputs": [
    {
     "data": {
      "text/plain": [
       "Index(['University', 'Country', 'Field', 'Period', 'Frac_counting', 'impact_P',\n",
       "       'collab_P', 'oa_P', 'gender_A', 'gender_A_MF', 'TCS', 'TNCS', 'P_top1',\n",
       "       'P_top5', 'P_top10', 'P_top50', 'P_collab', 'P_int_collab',\n",
       "       'P_industry_collab', 'P_short_dist_collab', 'P_long_dist_collab',\n",
       "       'P_OA', 'P_gold_OA', 'P_hybrid_OA', 'P_bronze_OA', 'P_green_OA',\n",
       "       'P_OA_unknown', 'A_gender_unknown', 'A_M', 'A_F', 'MCS', 'MCS_lb',\n",
       "       'MCS_ub', 'MNCS', 'MNCS_lb', 'MNCS_ub', 'PP_top1', 'PP_top1_lb',\n",
       "       'PP_top1_ub', 'PP_top5', 'PP_top5_lb', 'PP_top5_ub', 'PP_top10',\n",
       "       'PP_top10_lb', 'PP_top10_ub', 'PP_top50', 'PP_top50_lb', 'PP_top50_ub',\n",
       "       'PP_collab', 'PP_collab_lb', 'PP_collab_ub', 'PP_int_collab',\n",
       "       'PP_int_collab_lb', 'PP_int_collab_ub', 'PP_industry_collab',\n",
       "       'PP_industry_collab_lb', 'PP_industry_collab_ub',\n",
       "       'PP_short_dist_collab', 'PP_short_dist_collab_lb',\n",
       "       'PP_short_dist_collab_ub', 'PP_long_dist_collab',\n",
       "       'PP_long_dist_collab_lb', 'PP_long_dist_collab_ub', 'PP_OA', 'PP_OA_lb',\n",
       "       'PP_OA_ub', 'PP_gold_OA', 'PP_gold_OA_lb', 'PP_gold_OA_ub',\n",
       "       'PP_hybrid_OA', 'PP_hybrid_OA_lb', 'PP_hybrid_OA_OA_ub', 'PP_bronze_OA',\n",
       "       'PP_bronze_OA_lb', 'PP_bronze_OA_ub', 'PP_green_OA', 'PP_green_OA_lb',\n",
       "       'PP_green_OA_ub', 'PP_OA_unknown', 'PP_OA_unknown_lb',\n",
       "       'PP_OA_unknown_ub', 'PA_gender_unknown', 'PA_M', 'PA_F', 'PA_M_MF',\n",
       "       'PA_F_MF'],\n",
       "      dtype='object')"
      ]
     },
     "execution_count": 3,
     "metadata": {},
     "output_type": "execute_result"
    }
   ],
   "source": [
    "# Exibe as colunas do banco de dados\n",
    "df.columns"
   ]
  },
  {
   "cell_type": "markdown",
   "metadata": {
    "collapsed": true
   },
   "source": [
    "Para esta reportagem, vamos olhar para os seguintes campos:\n",
    "\n",
    "- `impact_P`: total de publicações de uma universidade.\n",
    "- `P_top10` e `PP_top10`: respectivamente, o número e a proporção de publicações de uma universidade que, em comparação com outras publicações no mesmo campo e no mesmo ano, pertencem aos 10% mais frequentemente citados.\n",
    "- `P_int_collab` e `PP_int_collab`: respectivamente, o número e a proporção de publicações de uma universidade que foram feitos em co-autoria entre dois ou mais países.\n",
    "- `P_industry_collab` e `PP_industry_collab`: respectivamente, o número e a proporção de publicações de uma universidade que foram feitos em co-autoria com uma instituição do setor privado (que não sejam instituições de ensino ou hospitais)\n",
    "- `P_OA` e `PP_OA`: respectivamente, o número e a proporção das publicações de acesso aberto de uma universidade.\n",
    "- `A_F`, `PA_F`, and `PA_F_MF`): respectivamente, o número de autores mulheres nas publicações da universidade, o percentual de autores mulheres em relação ao total de autores de uma universidade (incluindo aqueles de gênero desconhecido) e o percentual de autores mulheres em relação ao total de autores homens e mulheres da universidade.\n",
    "\n",
    "Também devem ser considerados os indicadores `TNCS` e `MNCS`, que representam o total de citações de citações e a média de citações de uma universidade, mas que são **normalizados** em relação ao total de citações do ano em que os artigos foram publicados e do campo de conhecimento em que a pesquisa se insere.\n",
    "\n",
    "Uma descrição completa do significado dos indicadores está disponível [aqui](https://www.leidenranking.com/information/indicators)."
   ]
  },
  {
   "cell_type": "code",
   "execution_count": 4,
   "metadata": {
    "collapsed": true
   },
   "outputs": [],
   "source": [
    "# Mantém apenas as colunas relevantes. No caso, os campos identificadores e os indicadores citados acima.\n",
    "df = df [[ \"University\", \"Country\", \"Field\", \"Period\", \"Frac_counting\", \n",
    "           \"impact_P\", \"P_top10\", \"PP_top10\", \"P_int_collab\", \"PP_int_collab\",\n",
    "           \"P_industry_collab\", \"PP_industry_collab\", \"P_OA\", \"PP_OA\", \n",
    "           \"A_F\", \"PA_F\", \"PA_F_MF\" ]]"
   ]
  },
  {
   "cell_type": "markdown",
   "metadata": {},
   "source": [
    "**Sobre o parâmetro `Frac_counting`:**\n",
    "\n",
    "O parâmetro contagem fracional, quando ativo, dá peso menor para o impacto de artigos publicados colaborativamente entre várias universidades. \n",
    "\n",
    "Exemplo: um artigo foi publicado por cinco pesquisadores, dois destes da USP e três de Harvard. A publicação vai fazer com que a USP some 0.4 pontos (2/5) e Harvard 0.6 pontos (3/5) no indicador `impact_P` e em todos os indicadores derivados.\n",
    "\n",
    "De acordo com as orientações [na documentação do próprio Lieden Ranking](https://www.leidenranking.com/information/indicators#counting-method), vamos avaliar os dados com o parâmetro **ativo**.\n",
    "\n",
    "**É importante frisar que o fractional counting vale para os indicadores de impacto, mas não para os indicadores de acesso aberto, colaboração e gênero.**"
   ]
  },
  {
   "cell_type": "code",
   "execution_count": 5,
   "metadata": {
    "collapsed": true
   },
   "outputs": [],
   "source": [
    "# Mantém apenas as linhas nas quais o parâmetro Frac_counting está ativo\n",
    "df = df [ df.Frac_counting == 1]"
   ]
  },
  {
   "cell_type": "markdown",
   "metadata": {},
   "source": [
    "**Sobre o intervalo de tempo selecionado:**\n",
    "\n",
    "Para evitar que aumentos ou quedas aleatórias na produtividade afetem os indicadores de qualidade universitária, o Lieden Ranking agrupa os dados em janelas de quatro anos. Assim, um ano atípico não faz com que as métricas de uma instituição disparem ou despenquem.\n",
    "\n",
    "Como queremos olhar para o estado atual das universidades brasileiras, vamos selecionar os dados do recorte mais recente possível: 2014 – 2017.\n",
    "\n",
    "Há, é verdade, uma defasagem de quase três anos entre a publicação dos dados e a produção da reportagem. Entretanto, estes são os dados mais recentes possíveis. Pode ser que a realidade das universidades tenha se alterado desde então? Sim, pode, mas nossa análise não vai se basear apenas nos números. Ela engloba, também, esforço de reportagem."
   ]
  },
  {
   "cell_type": "code",
   "execution_count": 6,
   "metadata": {
    "collapsed": true
   },
   "outputs": [],
   "source": [
    "# Mantém apenas as linhas nas quais o parâmetro Period é o intervalo entre 2014 e o 2017\n",
    "df = df [ df.Period == \"2014–2017\"]"
   ]
  },
  {
   "cell_type": "markdown",
   "metadata": {},
   "source": [
    "Para facilitar o processamento, serão mantidas apenas as linhas referentes a universidades brasileiras."
   ]
  },
  {
   "cell_type": "code",
   "execution_count": 7,
   "metadata": {
    "collapsed": true
   },
   "outputs": [],
   "source": [
    "# Mantém apenas as linhas em que o país é o Brasil\n",
    "df = df [ df.Country == \"Brazil\" ]"
   ]
  },
  {
   "cell_type": "markdown",
   "metadata": {
    "collapsed": true
   },
   "source": [
    "## 4. Destaques em números absolutos"
   ]
  },
  {
   "cell_type": "markdown",
   "metadata": {},
   "source": [
    "De início, vamos analisar as variáveis `impact_P` e `P_top10`. Assim, estaremos olhando para a **quantidade absoluta de artigos publicados** e a **quantidade absoluta de artigos entre os 10% mais citados do respectivo campo do conhecimento**."
   ]
  },
  {
   "cell_type": "markdown",
   "metadata": {},
   "source": [
    "### 4.1 Universidades que se destacam no agregado dos campos do conhecimento"
   ]
  },
  {
   "cell_type": "markdown",
   "metadata": {},
   "source": [
    "De início, vamos avaliar quais universidades **publicam mais artigos nos periódicos considerados pelo ranking** (campo `Impact_P`), sem discriminar por campo do conhecimento."
   ]
  },
  {
   "cell_type": "code",
   "execution_count": 8,
   "metadata": {},
   "outputs": [
    {
     "data": {
      "text/html": [
       "<div>\n",
       "<style>\n",
       "    .dataframe thead tr:only-child th {\n",
       "        text-align: right;\n",
       "    }\n",
       "\n",
       "    .dataframe thead th {\n",
       "        text-align: left;\n",
       "    }\n",
       "\n",
       "    .dataframe tbody tr th {\n",
       "        vertical-align: top;\n",
       "    }\n",
       "</style>\n",
       "<table border=\"1\" class=\"dataframe\">\n",
       "  <thead>\n",
       "    <tr style=\"text-align: right;\">\n",
       "      <th></th>\n",
       "      <th>University</th>\n",
       "      <th>Country</th>\n",
       "      <th>Field</th>\n",
       "      <th>Period</th>\n",
       "      <th>Frac_counting</th>\n",
       "      <th>impact_P</th>\n",
       "      <th>P_top10</th>\n",
       "      <th>PP_top10</th>\n",
       "      <th>P_int_collab</th>\n",
       "      <th>PP_int_collab</th>\n",
       "      <th>P_industry_collab</th>\n",
       "      <th>PP_industry_collab</th>\n",
       "      <th>P_OA</th>\n",
       "      <th>PP_OA</th>\n",
       "      <th>A_F</th>\n",
       "      <th>PA_F</th>\n",
       "      <th>PA_F_MF</th>\n",
       "    </tr>\n",
       "  </thead>\n",
       "  <tbody>\n",
       "    <tr>\n",
       "      <th>89333</th>\n",
       "      <td>University of São Paulo</td>\n",
       "      <td>Brazil</td>\n",
       "      <td>All sciences</td>\n",
       "      <td>2014–2017</td>\n",
       "      <td>1</td>\n",
       "      <td>16845.891826</td>\n",
       "      <td>1050.728503</td>\n",
       "      <td>0.062373</td>\n",
       "      <td>14757.000000</td>\n",
       "      <td>0.443220</td>\n",
       "      <td>819.000000</td>\n",
       "      <td>0.024598</td>\n",
       "      <td>13694.000000</td>\n",
       "      <td>0.411293</td>\n",
       "      <td>39490.000000</td>\n",
       "      <td>0.383737</td>\n",
       "      <td>0.419179</td>\n",
       "    </tr>\n",
       "    <tr>\n",
       "      <th>89351</th>\n",
       "      <td>University of São Paulo</td>\n",
       "      <td>Brazil</td>\n",
       "      <td>Biomedical and health sciences</td>\n",
       "      <td>2014–2017</td>\n",
       "      <td>1</td>\n",
       "      <td>8391.493343</td>\n",
       "      <td>495.994961</td>\n",
       "      <td>0.059107</td>\n",
       "      <td>6295.500000</td>\n",
       "      <td>0.394942</td>\n",
       "      <td>438.333333</td>\n",
       "      <td>0.027498</td>\n",
       "      <td>7197.166667</td>\n",
       "      <td>0.451507</td>\n",
       "      <td>26547.333333</td>\n",
       "      <td>0.450965</td>\n",
       "      <td>0.476457</td>\n",
       "    </tr>\n",
       "    <tr>\n",
       "      <th>61793</th>\n",
       "      <td>Universidade Estadual Paulista</td>\n",
       "      <td>Brazil</td>\n",
       "      <td>All sciences</td>\n",
       "      <td>2014–2017</td>\n",
       "      <td>1</td>\n",
       "      <td>6324.775011</td>\n",
       "      <td>333.787283</td>\n",
       "      <td>0.052775</td>\n",
       "      <td>4600.000000</td>\n",
       "      <td>0.372470</td>\n",
       "      <td>156.000000</td>\n",
       "      <td>0.012632</td>\n",
       "      <td>4661.000000</td>\n",
       "      <td>0.377409</td>\n",
       "      <td>15553.000000</td>\n",
       "      <td>0.397968</td>\n",
       "      <td>0.437817</td>\n",
       "    </tr>\n",
       "    <tr>\n",
       "      <th>72161</th>\n",
       "      <td>University of Campinas</td>\n",
       "      <td>Brazil</td>\n",
       "      <td>All sciences</td>\n",
       "      <td>2014–2017</td>\n",
       "      <td>1</td>\n",
       "      <td>5562.043446</td>\n",
       "      <td>368.069548</td>\n",
       "      <td>0.066175</td>\n",
       "      <td>4316.000000</td>\n",
       "      <td>0.381104</td>\n",
       "      <td>256.000000</td>\n",
       "      <td>0.022605</td>\n",
       "      <td>4073.000000</td>\n",
       "      <td>0.359647</td>\n",
       "      <td>12071.000000</td>\n",
       "      <td>0.381692</td>\n",
       "      <td>0.418130</td>\n",
       "    </tr>\n",
       "    <tr>\n",
       "      <th>15245</th>\n",
       "      <td>Federal University of Rio Grande do Sul</td>\n",
       "      <td>Brazil</td>\n",
       "      <td>All sciences</td>\n",
       "      <td>2014–2017</td>\n",
       "      <td>1</td>\n",
       "      <td>5372.214621</td>\n",
       "      <td>324.863294</td>\n",
       "      <td>0.060471</td>\n",
       "      <td>3707.000000</td>\n",
       "      <td>0.382717</td>\n",
       "      <td>240.000000</td>\n",
       "      <td>0.024778</td>\n",
       "      <td>3272.000000</td>\n",
       "      <td>0.337807</td>\n",
       "      <td>15098.000000</td>\n",
       "      <td>0.467923</td>\n",
       "      <td>0.494789</td>\n",
       "    </tr>\n",
       "    <tr>\n",
       "      <th>62765</th>\n",
       "      <td>Universidade Federal do Rio de Janeiro</td>\n",
       "      <td>Brazil</td>\n",
       "      <td>All sciences</td>\n",
       "      <td>2014–2017</td>\n",
       "      <td>1</td>\n",
       "      <td>4780.845925</td>\n",
       "      <td>311.112211</td>\n",
       "      <td>0.065075</td>\n",
       "      <td>4649.000000</td>\n",
       "      <td>0.444455</td>\n",
       "      <td>423.000000</td>\n",
       "      <td>0.040440</td>\n",
       "      <td>4458.000000</td>\n",
       "      <td>0.426195</td>\n",
       "      <td>12191.000000</td>\n",
       "      <td>0.361633</td>\n",
       "      <td>0.445920</td>\n",
       "    </tr>\n",
       "    <tr>\n",
       "      <th>62117</th>\n",
       "      <td>Universidade Federal de Minas Gerais</td>\n",
       "      <td>Brazil</td>\n",
       "      <td>All sciences</td>\n",
       "      <td>2014–2017</td>\n",
       "      <td>1</td>\n",
       "      <td>4121.372963</td>\n",
       "      <td>252.693862</td>\n",
       "      <td>0.061313</td>\n",
       "      <td>3096.000000</td>\n",
       "      <td>0.386372</td>\n",
       "      <td>188.000000</td>\n",
       "      <td>0.023462</td>\n",
       "      <td>3079.000000</td>\n",
       "      <td>0.384251</td>\n",
       "      <td>11568.000000</td>\n",
       "      <td>0.441982</td>\n",
       "      <td>0.469442</td>\n",
       "    </tr>\n",
       "    <tr>\n",
       "      <th>89369</th>\n",
       "      <td>University of São Paulo</td>\n",
       "      <td>Brazil</td>\n",
       "      <td>Life and earth sciences</td>\n",
       "      <td>2014–2017</td>\n",
       "      <td>1</td>\n",
       "      <td>3702.895717</td>\n",
       "      <td>262.061184</td>\n",
       "      <td>0.070772</td>\n",
       "      <td>3442.000000</td>\n",
       "      <td>0.456640</td>\n",
       "      <td>192.833333</td>\n",
       "      <td>0.025583</td>\n",
       "      <td>2554.166667</td>\n",
       "      <td>0.338854</td>\n",
       "      <td>7814.333333</td>\n",
       "      <td>0.383112</td>\n",
       "      <td>0.406122</td>\n",
       "    </tr>\n",
       "    <tr>\n",
       "      <th>89405</th>\n",
       "      <td>University of São Paulo</td>\n",
       "      <td>Brazil</td>\n",
       "      <td>Physical sciences and engineering</td>\n",
       "      <td>2014–2017</td>\n",
       "      <td>1</td>\n",
       "      <td>3247.696944</td>\n",
       "      <td>196.780312</td>\n",
       "      <td>0.060591</td>\n",
       "      <td>3773.333333</td>\n",
       "      <td>0.528663</td>\n",
       "      <td>146.833333</td>\n",
       "      <td>0.020572</td>\n",
       "      <td>3075.166667</td>\n",
       "      <td>0.430846</td>\n",
       "      <td>3813.666667</td>\n",
       "      <td>0.205859</td>\n",
       "      <td>0.262009</td>\n",
       "    </tr>\n",
       "    <tr>\n",
       "      <th>62333</th>\n",
       "      <td>Universidade Federal de São Paulo</td>\n",
       "      <td>Brazil</td>\n",
       "      <td>All sciences</td>\n",
       "      <td>2014–2017</td>\n",
       "      <td>1</td>\n",
       "      <td>2991.923594</td>\n",
       "      <td>135.530425</td>\n",
       "      <td>0.045299</td>\n",
       "      <td>2347.000000</td>\n",
       "      <td>0.357993</td>\n",
       "      <td>195.000000</td>\n",
       "      <td>0.029744</td>\n",
       "      <td>2986.000000</td>\n",
       "      <td>0.455461</td>\n",
       "      <td>9966.000000</td>\n",
       "      <td>0.484633</td>\n",
       "      <td>0.510396</td>\n",
       "    </tr>\n",
       "  </tbody>\n",
       "</table>\n",
       "</div>"
      ],
      "text/plain": [
       "                                    University Country  \\\n",
       "89333                  University of São Paulo  Brazil   \n",
       "89351                  University of São Paulo  Brazil   \n",
       "61793           Universidade Estadual Paulista  Brazil   \n",
       "72161                   University of Campinas  Brazil   \n",
       "15245  Federal University of Rio Grande do Sul  Brazil   \n",
       "62765   Universidade Federal do Rio de Janeiro  Brazil   \n",
       "62117     Universidade Federal de Minas Gerais  Brazil   \n",
       "89369                  University of São Paulo  Brazil   \n",
       "89405                  University of São Paulo  Brazil   \n",
       "62333        Universidade Federal de São Paulo  Brazil   \n",
       "\n",
       "                                   Field     Period  Frac_counting  \\\n",
       "89333                       All sciences  2014–2017              1   \n",
       "89351     Biomedical and health sciences  2014–2017              1   \n",
       "61793                       All sciences  2014–2017              1   \n",
       "72161                       All sciences  2014–2017              1   \n",
       "15245                       All sciences  2014–2017              1   \n",
       "62765                       All sciences  2014–2017              1   \n",
       "62117                       All sciences  2014–2017              1   \n",
       "89369            Life and earth sciences  2014–2017              1   \n",
       "89405  Physical sciences and engineering  2014–2017              1   \n",
       "62333                       All sciences  2014–2017              1   \n",
       "\n",
       "           impact_P      P_top10  PP_top10  P_int_collab  PP_int_collab  \\\n",
       "89333  16845.891826  1050.728503  0.062373  14757.000000       0.443220   \n",
       "89351   8391.493343   495.994961  0.059107   6295.500000       0.394942   \n",
       "61793   6324.775011   333.787283  0.052775   4600.000000       0.372470   \n",
       "72161   5562.043446   368.069548  0.066175   4316.000000       0.381104   \n",
       "15245   5372.214621   324.863294  0.060471   3707.000000       0.382717   \n",
       "62765   4780.845925   311.112211  0.065075   4649.000000       0.444455   \n",
       "62117   4121.372963   252.693862  0.061313   3096.000000       0.386372   \n",
       "89369   3702.895717   262.061184  0.070772   3442.000000       0.456640   \n",
       "89405   3247.696944   196.780312  0.060591   3773.333333       0.528663   \n",
       "62333   2991.923594   135.530425  0.045299   2347.000000       0.357993   \n",
       "\n",
       "       P_industry_collab  PP_industry_collab          P_OA     PP_OA  \\\n",
       "89333         819.000000            0.024598  13694.000000  0.411293   \n",
       "89351         438.333333            0.027498   7197.166667  0.451507   \n",
       "61793         156.000000            0.012632   4661.000000  0.377409   \n",
       "72161         256.000000            0.022605   4073.000000  0.359647   \n",
       "15245         240.000000            0.024778   3272.000000  0.337807   \n",
       "62765         423.000000            0.040440   4458.000000  0.426195   \n",
       "62117         188.000000            0.023462   3079.000000  0.384251   \n",
       "89369         192.833333            0.025583   2554.166667  0.338854   \n",
       "89405         146.833333            0.020572   3075.166667  0.430846   \n",
       "62333         195.000000            0.029744   2986.000000  0.455461   \n",
       "\n",
       "                A_F      PA_F   PA_F_MF  \n",
       "89333  39490.000000  0.383737  0.419179  \n",
       "89351  26547.333333  0.450965  0.476457  \n",
       "61793  15553.000000  0.397968  0.437817  \n",
       "72161  12071.000000  0.381692  0.418130  \n",
       "15245  15098.000000  0.467923  0.494789  \n",
       "62765  12191.000000  0.361633  0.445920  \n",
       "62117  11568.000000  0.441982  0.469442  \n",
       "89369   7814.333333  0.383112  0.406122  \n",
       "89405   3813.666667  0.205859  0.262009  \n",
       "62333   9966.000000  0.484633  0.510396  "
      ]
     },
     "execution_count": 8,
     "metadata": {},
     "output_type": "execute_result"
    }
   ],
   "source": [
    "# Ordena o banco de dados pelo valor na coluna 'impact_P', de forma decrescente. Depois, exibe as primeiras cinco linhas.\n",
    "df.sort_values(by=\"impact_P\", ascending = False).head(10)"
   ]
  },
  {
   "cell_type": "markdown",
   "metadata": {
    "collapsed": true
   },
   "source": [
    "Já de início, uma supresa. **Se isolássemos apenas as publicações da área de Ciências Biomédicas e da Saúde da USP, teríamos a segunda universidade mais produtiva do país** – atrás apenas da própria USP.\n",
    "\n",
    "A USP está **muito** acima das demais universidades em volume de publicações. O indicar `impact_P` é duas vezes maior que o da segunda universidade que mais publica, a Unesp.\n",
    "\n",
    "Depois, aparecem outras universidades do sistema estadual paulista: Unesp e Unicamp."
   ]
  },
  {
   "cell_type": "markdown",
   "metadata": {},
   "source": [
    "Estamos olhando, entretando, para o total de artigos publicados em revistas internacionais. Podemos limitar o recorte e analisar apenas as publicações que atingiram maior nível de impacto: o indicador `P_top10` só apenas as publicações que estão entre as 10% mais citadas de suas respectivas áreas em um determinado ano."
   ]
  },
  {
   "cell_type": "code",
   "execution_count": 9,
   "metadata": {},
   "outputs": [
    {
     "data": {
      "text/html": [
       "<div>\n",
       "<style>\n",
       "    .dataframe thead tr:only-child th {\n",
       "        text-align: right;\n",
       "    }\n",
       "\n",
       "    .dataframe thead th {\n",
       "        text-align: left;\n",
       "    }\n",
       "\n",
       "    .dataframe tbody tr th {\n",
       "        vertical-align: top;\n",
       "    }\n",
       "</style>\n",
       "<table border=\"1\" class=\"dataframe\">\n",
       "  <thead>\n",
       "    <tr style=\"text-align: right;\">\n",
       "      <th></th>\n",
       "      <th>University</th>\n",
       "      <th>Country</th>\n",
       "      <th>Field</th>\n",
       "      <th>Period</th>\n",
       "      <th>Frac_counting</th>\n",
       "      <th>impact_P</th>\n",
       "      <th>P_top10</th>\n",
       "      <th>PP_top10</th>\n",
       "      <th>P_int_collab</th>\n",
       "      <th>PP_int_collab</th>\n",
       "      <th>P_industry_collab</th>\n",
       "      <th>PP_industry_collab</th>\n",
       "      <th>P_OA</th>\n",
       "      <th>PP_OA</th>\n",
       "      <th>A_F</th>\n",
       "      <th>PA_F</th>\n",
       "      <th>PA_F_MF</th>\n",
       "    </tr>\n",
       "  </thead>\n",
       "  <tbody>\n",
       "    <tr>\n",
       "      <th>89333</th>\n",
       "      <td>University of São Paulo</td>\n",
       "      <td>Brazil</td>\n",
       "      <td>All sciences</td>\n",
       "      <td>2014–2017</td>\n",
       "      <td>1</td>\n",
       "      <td>16845.891826</td>\n",
       "      <td>1050.728503</td>\n",
       "      <td>0.062373</td>\n",
       "      <td>14757.0</td>\n",
       "      <td>0.443220</td>\n",
       "      <td>819.000000</td>\n",
       "      <td>0.024598</td>\n",
       "      <td>13694.000000</td>\n",
       "      <td>0.411293</td>\n",
       "      <td>39490.000000</td>\n",
       "      <td>0.383737</td>\n",
       "      <td>0.419179</td>\n",
       "    </tr>\n",
       "    <tr>\n",
       "      <th>89351</th>\n",
       "      <td>University of São Paulo</td>\n",
       "      <td>Brazil</td>\n",
       "      <td>Biomedical and health sciences</td>\n",
       "      <td>2014–2017</td>\n",
       "      <td>1</td>\n",
       "      <td>8391.493343</td>\n",
       "      <td>495.994961</td>\n",
       "      <td>0.059107</td>\n",
       "      <td>6295.5</td>\n",
       "      <td>0.394942</td>\n",
       "      <td>438.333333</td>\n",
       "      <td>0.027498</td>\n",
       "      <td>7197.166667</td>\n",
       "      <td>0.451507</td>\n",
       "      <td>26547.333333</td>\n",
       "      <td>0.450965</td>\n",
       "      <td>0.476457</td>\n",
       "    </tr>\n",
       "    <tr>\n",
       "      <th>72161</th>\n",
       "      <td>University of Campinas</td>\n",
       "      <td>Brazil</td>\n",
       "      <td>All sciences</td>\n",
       "      <td>2014–2017</td>\n",
       "      <td>1</td>\n",
       "      <td>5562.043446</td>\n",
       "      <td>368.069548</td>\n",
       "      <td>0.066175</td>\n",
       "      <td>4316.0</td>\n",
       "      <td>0.381104</td>\n",
       "      <td>256.000000</td>\n",
       "      <td>0.022605</td>\n",
       "      <td>4073.000000</td>\n",
       "      <td>0.359647</td>\n",
       "      <td>12071.000000</td>\n",
       "      <td>0.381692</td>\n",
       "      <td>0.418130</td>\n",
       "    </tr>\n",
       "    <tr>\n",
       "      <th>61793</th>\n",
       "      <td>Universidade Estadual Paulista</td>\n",
       "      <td>Brazil</td>\n",
       "      <td>All sciences</td>\n",
       "      <td>2014–2017</td>\n",
       "      <td>1</td>\n",
       "      <td>6324.775011</td>\n",
       "      <td>333.787283</td>\n",
       "      <td>0.052775</td>\n",
       "      <td>4600.0</td>\n",
       "      <td>0.372470</td>\n",
       "      <td>156.000000</td>\n",
       "      <td>0.012632</td>\n",
       "      <td>4661.000000</td>\n",
       "      <td>0.377409</td>\n",
       "      <td>15553.000000</td>\n",
       "      <td>0.397968</td>\n",
       "      <td>0.437817</td>\n",
       "    </tr>\n",
       "    <tr>\n",
       "      <th>15245</th>\n",
       "      <td>Federal University of Rio Grande do Sul</td>\n",
       "      <td>Brazil</td>\n",
       "      <td>All sciences</td>\n",
       "      <td>2014–2017</td>\n",
       "      <td>1</td>\n",
       "      <td>5372.214621</td>\n",
       "      <td>324.863294</td>\n",
       "      <td>0.060471</td>\n",
       "      <td>3707.0</td>\n",
       "      <td>0.382717</td>\n",
       "      <td>240.000000</td>\n",
       "      <td>0.024778</td>\n",
       "      <td>3272.000000</td>\n",
       "      <td>0.337807</td>\n",
       "      <td>15098.000000</td>\n",
       "      <td>0.467923</td>\n",
       "      <td>0.494789</td>\n",
       "    </tr>\n",
       "  </tbody>\n",
       "</table>\n",
       "</div>"
      ],
      "text/plain": [
       "                                    University Country  \\\n",
       "89333                  University of São Paulo  Brazil   \n",
       "89351                  University of São Paulo  Brazil   \n",
       "72161                   University of Campinas  Brazil   \n",
       "61793           Universidade Estadual Paulista  Brazil   \n",
       "15245  Federal University of Rio Grande do Sul  Brazil   \n",
       "\n",
       "                                Field     Period  Frac_counting      impact_P  \\\n",
       "89333                    All sciences  2014–2017              1  16845.891826   \n",
       "89351  Biomedical and health sciences  2014–2017              1   8391.493343   \n",
       "72161                    All sciences  2014–2017              1   5562.043446   \n",
       "61793                    All sciences  2014–2017              1   6324.775011   \n",
       "15245                    All sciences  2014–2017              1   5372.214621   \n",
       "\n",
       "           P_top10  PP_top10  P_int_collab  PP_int_collab  P_industry_collab  \\\n",
       "89333  1050.728503  0.062373       14757.0       0.443220         819.000000   \n",
       "89351   495.994961  0.059107        6295.5       0.394942         438.333333   \n",
       "72161   368.069548  0.066175        4316.0       0.381104         256.000000   \n",
       "61793   333.787283  0.052775        4600.0       0.372470         156.000000   \n",
       "15245   324.863294  0.060471        3707.0       0.382717         240.000000   \n",
       "\n",
       "       PP_industry_collab          P_OA     PP_OA           A_F      PA_F  \\\n",
       "89333            0.024598  13694.000000  0.411293  39490.000000  0.383737   \n",
       "89351            0.027498   7197.166667  0.451507  26547.333333  0.450965   \n",
       "72161            0.022605   4073.000000  0.359647  12071.000000  0.381692   \n",
       "61793            0.012632   4661.000000  0.377409  15553.000000  0.397968   \n",
       "15245            0.024778   3272.000000  0.337807  15098.000000  0.467923   \n",
       "\n",
       "        PA_F_MF  \n",
       "89333  0.419179  \n",
       "89351  0.476457  \n",
       "72161  0.418130  \n",
       "61793  0.437817  \n",
       "15245  0.494789  "
      ]
     },
     "execution_count": 9,
     "metadata": {},
     "output_type": "execute_result"
    }
   ],
   "source": [
    "# Ordena os dados de forma decrescente de acordo com a coluna 'P_top10' e exibe as cinco primeiras linhas\n",
    "df.sort_values(by=\"P_top10\", ascending = False).head()"
   ]
  },
  {
   "cell_type": "markdown",
   "metadata": {},
   "source": [
    "As universidades de destaque se mantém praticamente na mesma ordem, inclusive em relação às pesquisas em saúde na USP. Isso significa que a mesma proporção de artigos atinge alto impacto. A única mudança de ordem em relação ao recorte anterior é que a Unicamp supera a Unesp."
   ]
  },
  {
   "cell_type": "markdown",
   "metadata": {
    "collapsed": true
   },
   "source": [
    "### 4.2 Universidades que se destacam em campos do conhecimento específicos"
   ]
  },
  {
   "cell_type": "markdown",
   "metadata": {
    "collapsed": true
   },
   "source": [
    "Agora, vamos repetir essa mesma análise, mas separando as áreas de conhecimento. Assim, é possível descobrir que universidades mais produzem em cada área.\n",
    "Para isso, precisamos definir antes algumas variáveis e funções."
   ]
  },
  {
   "cell_type": "code",
   "execution_count": 10,
   "metadata": {
    "collapsed": true
   },
   "outputs": [],
   "source": [
    "# Seleciona os possíveis valoes da coluna 'Field' e guarda as entradas em uma lista\n",
    "fields = df.Field.unique().tolist()"
   ]
  },
  {
   "cell_type": "code",
   "execution_count": 11,
   "metadata": {
    "collapsed": true
   },
   "outputs": [],
   "source": [
    "# Remove o item de valor 'All sciences' da lista acima\n",
    "fields.remove('All sciences')"
   ]
  },
  {
   "cell_type": "code",
   "execution_count": 12,
   "metadata": {
    "collapsed": true
   },
   "outputs": [],
   "source": [
    "# Abaixo, vamos definir uma função que ordena o dataframe de acordo com um campo específico e\n",
    "# imprime, lado a lado, o nome das cinco primeiras universidades e o valor da respectiva coluna.\n",
    "def top_5(data, field, indicator):\n",
    "    '''\n",
    "    De início, a função filtra o o dataframe `data` para\n",
    "    manter apenas as linhas em que a coluna \"Field\" seja igual\n",
    "    ao especificado no parâmetro `field`. Depos, ordena o mesmo \n",
    "    de acordo com o campo especificado no parâmetro `indicator`. \n",
    "    Finalmente, imprime lado a lado, o nome das  cinco primeiras \n",
    "    universidades e o valor do indicador.\n",
    "    \n",
    "    Parâmetros:\n",
    "    \n",
    "    data -> Um dataframe do pandas\n",
    "    field -> Uma string que representa qual valor da coluna\n",
    "    \"Field\" deve ser mantido na hora de filtrar o dataframe `data`.\n",
    "    indicator -> Uma string que representa o nome \n",
    "    de uma coluna do dataframe acima\n",
    "    '''\n",
    "    \n",
    "    # Mantém apenas as linhas nas quais o campo do conhecimento\n",
    "    # (coluna \"Field\") é igual ao especificado no parâmetro `field`\n",
    "    data = data [ data.Field == field]\n",
    "    \n",
    "    # Ordena o dataframe de forma decrescente, de acordo com\n",
    "    # o indicador especificado em `indicator`\n",
    "    data = data.sort_values(by = indicator, ascending = False)\n",
    "\n",
    "    # Mantém apenas as cinco primeiras linhas do dataframe\n",
    "    data = data.head(5)\n",
    "    \n",
    "    # Imprime o nome do campo para facilitar a leitura\n",
    "    # caso a função seja executada dentro de um loop\n",
    "    \n",
    "    print(\"#\" * (len(field) + 4) )\n",
    "    print(\"# \" + field + \" #\")\n",
    "    print(\"#\" * (len(field) + 4) )\n",
    "    print()\n",
    "    \n",
    "    # Define e imprime um cabeçalho para facilitar\n",
    "    # a leitura do output\n",
    "    header = \"University\".ljust(50) + f\"{indicator}\".ljust(10) # O método ljust(n) preenche \n",
    "    print(header)                                              # a string com whitespaces até \n",
    "    print()                                                    # que ela tenha comprimento igual a n.\n",
    "    \n",
    "    # Para cada uma das linhas do dataframe `data`,\n",
    "    # imprime o nome da universidade e o valor\n",
    "    # da coluna `indicator`, ladoa  lado.\n",
    "    for index, row in data.iterrows():\n",
    "        \n",
    "        line = f\"{row.University}\".ljust(50) + f\"{row[indicator]}\".ljust(10)\n",
    "        print(line)\n",
    "        \n",
    "    # Por fim, imprime um espaço para que o output não se sobreponha\n",
    "    print()"
   ]
  },
  {
   "cell_type": "markdown",
   "metadata": {},
   "source": [
    "Usando a função e a lista definidas acima, podemos facilmente descobrir quais são as universidades que mais produzem em cada campo."
   ]
  },
  {
   "cell_type": "code",
   "execution_count": 13,
   "metadata": {},
   "outputs": [
    {
     "name": "stdout",
     "output_type": "stream",
     "text": [
      "##################################\n",
      "# Biomedical and health sciences #\n",
      "##################################\n",
      "\n",
      "University                                        impact_P  \n",
      "\n",
      "University of São Paulo                           8391.49334315334\n",
      "Universidade Estadual Paulista                    2624.41545708\n",
      "Universidade Federal de São Paulo                 2410.04300561333\n",
      "University of Campinas                            2292.88941949167\n",
      "Federal University of Rio Grande do Sul           2259.34691314167\n",
      "\n",
      "###########################\n",
      "# Life and earth sciences #\n",
      "###########################\n",
      "\n",
      "University                                        impact_P  \n",
      "\n",
      "University of São Paulo                           3702.89571653333\n",
      "Universidade Estadual Paulista                    2042.18546828666\n",
      "Federal University of Rio Grande do Sul           1331.526214505\n",
      "Universidade Federal do Rio de Janeiro            1147.59083336667\n",
      "University of Campinas                            1057.3624877\n",
      "\n",
      "####################################\n",
      "# Mathematics and computer science #\n",
      "####################################\n",
      "\n",
      "University                                        impact_P  \n",
      "\n",
      "University of São Paulo                           1060.06635672333\n",
      "University of Campinas                            579.797414571666\n",
      "Universidade Federal do Rio de Janeiro            435.652243283334\n",
      "Universidade Federal de Minas Gerais              331.623130046667\n",
      "Federal University of Pernambuco                  324.168253865\n",
      "\n",
      "#####################################\n",
      "# Physical sciences and engineering #\n",
      "#####################################\n",
      "\n",
      "University                                        impact_P  \n",
      "\n",
      "University of São Paulo                           3247.69694449833\n",
      "University of Campinas                            1531.26278684\n",
      "Universidade Estadual Paulista                    1378.00086085167\n",
      "Federal University of Rio Grande do Sul           1304.71617775833\n",
      "Universidade Federal do Rio de Janeiro            1278.05533103833\n",
      "\n",
      "##################################\n",
      "# Social sciences and humanities #\n",
      "##################################\n",
      "\n",
      "University                                        impact_P  \n",
      "\n",
      "University of São Paulo                           443.739464851667\n",
      "Federal University of Rio Grande do Sul           189.478441648333\n",
      "Universidade Federal do Rio de Janeiro            180.597196578333\n",
      "Universidade Federal de Minas Gerais              121.383850348333\n",
      "Universidade de Brasília                          101.262705848333\n",
      "\n"
     ]
    }
   ],
   "source": [
    "# Chama a função uma vez para cada item na lsita, alterando o parâmetro 'field' \n",
    "for field in fields:\n",
    "    top_5(df, field, \"impact_P\")"
   ]
  },
  {
   "cell_type": "markdown",
   "metadata": {},
   "source": [
    "Como é de se esperar, a USP lidera em todos os campos – ela é, afinal, disparadamente a maior universidade brasileira.\n",
    "\n",
    "Entretanto, há instituições que não estão entre as cinco que mais publicam artigos como um todo, mas que se destacam em campos específicos.\n",
    "\n",
    "A **Unifesp**, por exemplo, aparece entre as cinco primeiras na área de saúde. A **UFRJ** se destaca na área de Ciências da Terra.\n",
    "\n",
    " Em matemática e ciência da computação, destacam-se **UFRJ**, **UFPE** e **UFMG**.\n",
    " \n",
    " Em Ciências físicas, a **UFRJ** aparece bem posicionada de novo.\n",
    " \n",
    " Finalmente, em ciências sociais e humanidades, a lista de cinco melhores  a **UFRGS** aparece em segundo, **UFRJ** e **UFMG** aparecem novamente e a **UnB** aparece pela primeira vez como destaque.\n",
    "    "
   ]
  },
  {
   "cell_type": "markdown",
   "metadata": {},
   "source": [
    "Agora, vamos ver quais são os resultados usando a métrica `P_top10` – ou seja, considerando apenas artigos que tenham atingido alto impacto."
   ]
  },
  {
   "cell_type": "code",
   "execution_count": 14,
   "metadata": {},
   "outputs": [
    {
     "name": "stdout",
     "output_type": "stream",
     "text": [
      "##################################\n",
      "# Biomedical and health sciences #\n",
      "##################################\n",
      "\n",
      "University                                        P_top10   \n",
      "\n",
      "University of São Paulo                           495.994960989405\n",
      "Federal University of Rio Grande do Sul           127.164453106562\n",
      "Universidade Estadual Paulista                    122.190380979349\n",
      "University of Campinas                            112.737921966259\n",
      "Universidade Federal do Rio de Janeiro            112.282481903485\n",
      "\n",
      "###########################\n",
      "# Life and earth sciences #\n",
      "###########################\n",
      "\n",
      "University                                        P_top10   \n",
      "\n",
      "University of São Paulo                           262.061183719962\n",
      "Universidade Estadual Paulista                    107.054815179322\n",
      "University of Campinas                            91.8348607364319\n",
      "Federal University of Rio Grande do Sul           86.3774061302767\n",
      "Universidade Federal do Rio de Janeiro            79.7845649329967\n",
      "\n",
      "####################################\n",
      "# Mathematics and computer science #\n",
      "####################################\n",
      "\n",
      "University                                        P_top10   \n",
      "\n",
      "University of São Paulo                           73.5221779446927\n",
      "University of Campinas                            45.5763068332906\n",
      "Universidade Federal do Rio de Janeiro            29.6251463288802\n",
      "Universidade Federal de Minas Gerais              25.3319200307852\n",
      "Federal University of Pernambuco                  21.3561984450275\n",
      "\n",
      "#####################################\n",
      "# Physical sciences and engineering #\n",
      "#####################################\n",
      "\n",
      "University                                        P_top10   \n",
      "\n",
      "University of São Paulo                           196.780312407979\n",
      "University of Campinas                            113.855485461189\n",
      "Universidade Estadual Paulista                    86.890694513393\n",
      "Universidade Federal do Rio de Janeiro            77.7906512347506\n",
      "Federal University of Rio Grande do Sul           77.7283989283318\n",
      "\n",
      "##################################\n",
      "# Social sciences and humanities #\n",
      "##################################\n",
      "\n",
      "University                                        P_top10   \n",
      "\n",
      "University of São Paulo                           22.3698674946452\n",
      "Federal University of Rio Grande do Sul           17.7959737414467\n",
      "Universidade Federal do Rio de Janeiro            11.6293661532414\n",
      "Universidade de Brasília                          6.63640094136869\n",
      "Universidade Federal de São Paulo                 4.77891120926735\n",
      "\n"
     ]
    }
   ],
   "source": [
    "for field in fields:\n",
    "    top_5(df, field, \"P_top10\")"
   ]
  },
  {
   "cell_type": "markdown",
   "metadata": {},
   "source": [
    "A maior parte dos resultados anteriores se mantém, com algumas alterações pontuais. Algo que chama a atenção, de imediato, é o avanço da **UFRGS** na área de ciências da saúde. \n",
    "\n",
    "Esses números, porém, seguem refletindo em grande medida o **tamanho das universidades** – quem se destaca é, quase sempre, uma instituição do sistema estadual paulista ou que está entre as maiores universidades federais. O próximo indicador pode minimizar esse problema."
   ]
  },
  {
   "cell_type": "markdown",
   "metadata": {
    "collapsed": true
   },
   "source": [
    "## 5. Destaques em números relativos"
   ]
  },
  {
   "cell_type": "markdown",
   "metadata": {},
   "source": [
    "Agora, vamos analisar os dados usando o recorte `PP_top10`: o percentual de artigos publicados por cada universidade que está entre os 10% mais citados na respectiva área e ano.\n",
    "\n",
    "Esse indicador mostra, grosso modo, o **aproveitamento** dos artigos publicados por cada universidade, revelando quem consegue emplacar mais estudos de alta relevância, em termos relativos."
   ]
  },
  {
   "cell_type": "markdown",
   "metadata": {},
   "source": [
    "### 5.1 Universidades que se destacam no agregado dos campos do conhecimento"
   ]
  },
  {
   "cell_type": "markdown",
   "metadata": {},
   "source": [
    "Como na primeira sessão da análise, vamos começar olhando o desempenho das universidades no agregado de todos os campos do conhecimento."
   ]
  },
  {
   "cell_type": "code",
   "execution_count": 15,
   "metadata": {
    "scrolled": false
   },
   "outputs": [
    {
     "data": {
      "text/html": [
       "<div>\n",
       "<style>\n",
       "    .dataframe thead tr:only-child th {\n",
       "        text-align: right;\n",
       "    }\n",
       "\n",
       "    .dataframe thead th {\n",
       "        text-align: left;\n",
       "    }\n",
       "\n",
       "    .dataframe tbody tr th {\n",
       "        vertical-align: top;\n",
       "    }\n",
       "</style>\n",
       "<table border=\"1\" class=\"dataframe\">\n",
       "  <thead>\n",
       "    <tr style=\"text-align: right;\">\n",
       "      <th></th>\n",
       "      <th>University</th>\n",
       "      <th>Country</th>\n",
       "      <th>Field</th>\n",
       "      <th>Period</th>\n",
       "      <th>Frac_counting</th>\n",
       "      <th>impact_P</th>\n",
       "      <th>P_top10</th>\n",
       "      <th>PP_top10</th>\n",
       "      <th>P_int_collab</th>\n",
       "      <th>PP_int_collab</th>\n",
       "      <th>P_industry_collab</th>\n",
       "      <th>PP_industry_collab</th>\n",
       "      <th>P_OA</th>\n",
       "      <th>PP_OA</th>\n",
       "      <th>A_F</th>\n",
       "      <th>PA_F</th>\n",
       "      <th>PA_F_MF</th>\n",
       "    </tr>\n",
       "  </thead>\n",
       "  <tbody>\n",
       "    <tr>\n",
       "      <th>62549</th>\n",
       "      <td>Universidade Federal do Ceará</td>\n",
       "      <td>Brazil</td>\n",
       "      <td>All sciences</td>\n",
       "      <td>2014–2017</td>\n",
       "      <td>1</td>\n",
       "      <td>1629.036607</td>\n",
       "      <td>115.290766</td>\n",
       "      <td>0.070772</td>\n",
       "      <td>1299.0</td>\n",
       "      <td>0.391973</td>\n",
       "      <td>68.0</td>\n",
       "      <td>0.020519</td>\n",
       "      <td>1084.0</td>\n",
       "      <td>0.327097</td>\n",
       "      <td>4166.0</td>\n",
       "      <td>0.372130</td>\n",
       "      <td>0.405727</td>\n",
       "    </tr>\n",
       "    <tr>\n",
       "      <th>61901</th>\n",
       "      <td>Universidade Federal da Bahia</td>\n",
       "      <td>Brazil</td>\n",
       "      <td>All sciences</td>\n",
       "      <td>2014–2017</td>\n",
       "      <td>1</td>\n",
       "      <td>1155.601175</td>\n",
       "      <td>77.911443</td>\n",
       "      <td>0.067421</td>\n",
       "      <td>1005.0</td>\n",
       "      <td>0.380106</td>\n",
       "      <td>62.0</td>\n",
       "      <td>0.023449</td>\n",
       "      <td>1024.0</td>\n",
       "      <td>0.387292</td>\n",
       "      <td>2955.0</td>\n",
       "      <td>0.420760</td>\n",
       "      <td>0.459851</td>\n",
       "    </tr>\n",
       "    <tr>\n",
       "      <th>15461</th>\n",
       "      <td>Federal University of São Carlos</td>\n",
       "      <td>Brazil</td>\n",
       "      <td>All sciences</td>\n",
       "      <td>2014–2017</td>\n",
       "      <td>1</td>\n",
       "      <td>1838.897696</td>\n",
       "      <td>122.366391</td>\n",
       "      <td>0.066543</td>\n",
       "      <td>1419.0</td>\n",
       "      <td>0.365345</td>\n",
       "      <td>74.0</td>\n",
       "      <td>0.019053</td>\n",
       "      <td>1155.0</td>\n",
       "      <td>0.297374</td>\n",
       "      <td>3308.0</td>\n",
       "      <td>0.353721</td>\n",
       "      <td>0.386223</td>\n",
       "    </tr>\n",
       "    <tr>\n",
       "      <th>62225</th>\n",
       "      <td>Universidade Federal de Santa Catarina</td>\n",
       "      <td>Brazil</td>\n",
       "      <td>All sciences</td>\n",
       "      <td>2014–2017</td>\n",
       "      <td>1</td>\n",
       "      <td>2596.592015</td>\n",
       "      <td>172.235697</td>\n",
       "      <td>0.066331</td>\n",
       "      <td>2032.0</td>\n",
       "      <td>0.409595</td>\n",
       "      <td>139.0</td>\n",
       "      <td>0.028019</td>\n",
       "      <td>1383.0</td>\n",
       "      <td>0.278774</td>\n",
       "      <td>5448.0</td>\n",
       "      <td>0.387979</td>\n",
       "      <td>0.418884</td>\n",
       "    </tr>\n",
       "    <tr>\n",
       "      <th>72161</th>\n",
       "      <td>University of Campinas</td>\n",
       "      <td>Brazil</td>\n",
       "      <td>All sciences</td>\n",
       "      <td>2014–2017</td>\n",
       "      <td>1</td>\n",
       "      <td>5562.043446</td>\n",
       "      <td>368.069548</td>\n",
       "      <td>0.066175</td>\n",
       "      <td>4316.0</td>\n",
       "      <td>0.381104</td>\n",
       "      <td>256.0</td>\n",
       "      <td>0.022605</td>\n",
       "      <td>4073.0</td>\n",
       "      <td>0.359647</td>\n",
       "      <td>12071.0</td>\n",
       "      <td>0.381692</td>\n",
       "      <td>0.418130</td>\n",
       "    </tr>\n",
       "  </tbody>\n",
       "</table>\n",
       "</div>"
      ],
      "text/plain": [
       "                                   University Country         Field  \\\n",
       "62549           Universidade Federal do Ceará  Brazil  All sciences   \n",
       "61901           Universidade Federal da Bahia  Brazil  All sciences   \n",
       "15461        Federal University of São Carlos  Brazil  All sciences   \n",
       "62225  Universidade Federal de Santa Catarina  Brazil  All sciences   \n",
       "72161                  University of Campinas  Brazil  All sciences   \n",
       "\n",
       "          Period  Frac_counting     impact_P     P_top10  PP_top10  \\\n",
       "62549  2014–2017              1  1629.036607  115.290766  0.070772   \n",
       "61901  2014–2017              1  1155.601175   77.911443  0.067421   \n",
       "15461  2014–2017              1  1838.897696  122.366391  0.066543   \n",
       "62225  2014–2017              1  2596.592015  172.235697  0.066331   \n",
       "72161  2014–2017              1  5562.043446  368.069548  0.066175   \n",
       "\n",
       "       P_int_collab  PP_int_collab  P_industry_collab  PP_industry_collab  \\\n",
       "62549        1299.0       0.391973               68.0            0.020519   \n",
       "61901        1005.0       0.380106               62.0            0.023449   \n",
       "15461        1419.0       0.365345               74.0            0.019053   \n",
       "62225        2032.0       0.409595              139.0            0.028019   \n",
       "72161        4316.0       0.381104              256.0            0.022605   \n",
       "\n",
       "         P_OA     PP_OA      A_F      PA_F   PA_F_MF  \n",
       "62549  1084.0  0.327097   4166.0  0.372130  0.405727  \n",
       "61901  1024.0  0.387292   2955.0  0.420760  0.459851  \n",
       "15461  1155.0  0.297374   3308.0  0.353721  0.386223  \n",
       "62225  1383.0  0.278774   5448.0  0.387979  0.418884  \n",
       "72161  4073.0  0.359647  12071.0  0.381692  0.418130  "
      ]
     },
     "execution_count": 15,
     "metadata": {},
     "output_type": "execute_result"
    }
   ],
   "source": [
    "df [ df.Field == \"All sciences\" ].sort_values(by = \"PP_top10\", ascending = False).head()"
   ]
  },
  {
   "cell_type": "markdown",
   "metadata": {},
   "source": [
    "A lista de instituições que se destacam sob esse critério é bem diferente das anteriores. Vemos universidades menores, como a **UFC**, a **UFBA**, a **Ufscar** e a **UFSC** na liderança. \n",
    "\n",
    "Todas elas têm um percentual semelhante de artigos de destaque: entre 6,5 e 7%.\n",
    "\n",
    "Para saber se isso é relevante, precisamos comparar com os números das instituições que listamos no primeiro item deste caderno."
   ]
  },
  {
   "cell_type": "code",
   "execution_count": 16,
   "metadata": {
    "collapsed": true
   },
   "outputs": [],
   "source": [
    "# Salva o nome das cinco universidades com maior indicador 'impact_P' em uma lista\n",
    "top_5_unis_by_impact_p = df.sort_values(by=\"impact_P\", ascending = False).head(5).University.tolist()"
   ]
  },
  {
   "cell_type": "code",
   "execution_count": 17,
   "metadata": {},
   "outputs": [
    {
     "data": {
      "text/html": [
       "<div>\n",
       "<style>\n",
       "    .dataframe thead tr:only-child th {\n",
       "        text-align: right;\n",
       "    }\n",
       "\n",
       "    .dataframe thead th {\n",
       "        text-align: left;\n",
       "    }\n",
       "\n",
       "    .dataframe tbody tr th {\n",
       "        vertical-align: top;\n",
       "    }\n",
       "</style>\n",
       "<table border=\"1\" class=\"dataframe\">\n",
       "  <thead>\n",
       "    <tr style=\"text-align: right;\">\n",
       "      <th></th>\n",
       "      <th>University</th>\n",
       "      <th>Country</th>\n",
       "      <th>Field</th>\n",
       "      <th>Period</th>\n",
       "      <th>Frac_counting</th>\n",
       "      <th>impact_P</th>\n",
       "      <th>P_top10</th>\n",
       "      <th>PP_top10</th>\n",
       "      <th>P_int_collab</th>\n",
       "      <th>PP_int_collab</th>\n",
       "      <th>P_industry_collab</th>\n",
       "      <th>PP_industry_collab</th>\n",
       "      <th>P_OA</th>\n",
       "      <th>PP_OA</th>\n",
       "      <th>A_F</th>\n",
       "      <th>PA_F</th>\n",
       "      <th>PA_F_MF</th>\n",
       "    </tr>\n",
       "  </thead>\n",
       "  <tbody>\n",
       "    <tr>\n",
       "      <th>72161</th>\n",
       "      <td>University of Campinas</td>\n",
       "      <td>Brazil</td>\n",
       "      <td>All sciences</td>\n",
       "      <td>2014–2017</td>\n",
       "      <td>1</td>\n",
       "      <td>5562.043446</td>\n",
       "      <td>368.069548</td>\n",
       "      <td>0.066175</td>\n",
       "      <td>4316.0</td>\n",
       "      <td>0.381104</td>\n",
       "      <td>256.0</td>\n",
       "      <td>0.022605</td>\n",
       "      <td>4073.0</td>\n",
       "      <td>0.359647</td>\n",
       "      <td>12071.0</td>\n",
       "      <td>0.381692</td>\n",
       "      <td>0.418130</td>\n",
       "    </tr>\n",
       "    <tr>\n",
       "      <th>89333</th>\n",
       "      <td>University of São Paulo</td>\n",
       "      <td>Brazil</td>\n",
       "      <td>All sciences</td>\n",
       "      <td>2014–2017</td>\n",
       "      <td>1</td>\n",
       "      <td>16845.891826</td>\n",
       "      <td>1050.728503</td>\n",
       "      <td>0.062373</td>\n",
       "      <td>14757.0</td>\n",
       "      <td>0.443220</td>\n",
       "      <td>819.0</td>\n",
       "      <td>0.024598</td>\n",
       "      <td>13694.0</td>\n",
       "      <td>0.411293</td>\n",
       "      <td>39490.0</td>\n",
       "      <td>0.383737</td>\n",
       "      <td>0.419179</td>\n",
       "    </tr>\n",
       "    <tr>\n",
       "      <th>15245</th>\n",
       "      <td>Federal University of Rio Grande do Sul</td>\n",
       "      <td>Brazil</td>\n",
       "      <td>All sciences</td>\n",
       "      <td>2014–2017</td>\n",
       "      <td>1</td>\n",
       "      <td>5372.214621</td>\n",
       "      <td>324.863294</td>\n",
       "      <td>0.060471</td>\n",
       "      <td>3707.0</td>\n",
       "      <td>0.382717</td>\n",
       "      <td>240.0</td>\n",
       "      <td>0.024778</td>\n",
       "      <td>3272.0</td>\n",
       "      <td>0.337807</td>\n",
       "      <td>15098.0</td>\n",
       "      <td>0.467923</td>\n",
       "      <td>0.494789</td>\n",
       "    </tr>\n",
       "    <tr>\n",
       "      <th>61793</th>\n",
       "      <td>Universidade Estadual Paulista</td>\n",
       "      <td>Brazil</td>\n",
       "      <td>All sciences</td>\n",
       "      <td>2014–2017</td>\n",
       "      <td>1</td>\n",
       "      <td>6324.775011</td>\n",
       "      <td>333.787283</td>\n",
       "      <td>0.052775</td>\n",
       "      <td>4600.0</td>\n",
       "      <td>0.372470</td>\n",
       "      <td>156.0</td>\n",
       "      <td>0.012632</td>\n",
       "      <td>4661.0</td>\n",
       "      <td>0.377409</td>\n",
       "      <td>15553.0</td>\n",
       "      <td>0.397968</td>\n",
       "      <td>0.437817</td>\n",
       "    </tr>\n",
       "  </tbody>\n",
       "</table>\n",
       "</div>"
      ],
      "text/plain": [
       "                                    University Country         Field  \\\n",
       "72161                   University of Campinas  Brazil  All sciences   \n",
       "89333                  University of São Paulo  Brazil  All sciences   \n",
       "15245  Federal University of Rio Grande do Sul  Brazil  All sciences   \n",
       "61793           Universidade Estadual Paulista  Brazil  All sciences   \n",
       "\n",
       "          Period  Frac_counting      impact_P      P_top10  PP_top10  \\\n",
       "72161  2014–2017              1   5562.043446   368.069548  0.066175   \n",
       "89333  2014–2017              1  16845.891826  1050.728503  0.062373   \n",
       "15245  2014–2017              1   5372.214621   324.863294  0.060471   \n",
       "61793  2014–2017              1   6324.775011   333.787283  0.052775   \n",
       "\n",
       "       P_int_collab  PP_int_collab  P_industry_collab  PP_industry_collab  \\\n",
       "72161        4316.0       0.381104              256.0            0.022605   \n",
       "89333       14757.0       0.443220              819.0            0.024598   \n",
       "15245        3707.0       0.382717              240.0            0.024778   \n",
       "61793        4600.0       0.372470              156.0            0.012632   \n",
       "\n",
       "          P_OA     PP_OA      A_F      PA_F   PA_F_MF  \n",
       "72161   4073.0  0.359647  12071.0  0.381692  0.418130  \n",
       "89333  13694.0  0.411293  39490.0  0.383737  0.419179  \n",
       "15245   3272.0  0.337807  15098.0  0.467923  0.494789  \n",
       "61793   4661.0  0.377409  15553.0  0.397968  0.437817  "
      ]
     },
     "execution_count": 17,
     "metadata": {},
     "output_type": "execute_result"
    }
   ],
   "source": [
    "# Seleciona as universidades que estão na lista definida acima, \n",
    "# mantém as linhas em que o campo Field é \"All sciences\",\n",
    "# e ordenas as linhas do maior PP_top10 para o menor\n",
    "df [ df.University.isin(top_5_unis_by_impact_p) & (df.Field == \"All sciences\") ].sort_values(by = \"PP_top10\", ascending = False)"
   ]
  },
  {
   "cell_type": "markdown",
   "metadata": {},
   "source": [
    "Há diferenças relevantes no percentual. A **Unicamp** tem um desempenho parecido com as universidades listadas acima, mas as instituições que estão abaixo dela já mostram um percentual relativamente menor. Na Unesp, por exemplo, o percentual é de 5.2% – cerca de um ponto perentual a menos do que a média do grupo destacado anteriormente."
   ]
  },
  {
   "cell_type": "markdown",
   "metadata": {},
   "source": [
    "### 5.2 Universidades que se destacam em campos do conhecimento específicos"
   ]
  },
  {
   "cell_type": "markdown",
   "metadata": {
    "collapsed": true
   },
   "source": [
    "Vamos repetir a análise recorte acima, mas dessa vez segmentando os dados por área do conhecimento."
   ]
  },
  {
   "cell_type": "code",
   "execution_count": 18,
   "metadata": {},
   "outputs": [
    {
     "name": "stdout",
     "output_type": "stream",
     "text": [
      "##################################\n",
      "# Biomedical and health sciences #\n",
      "##################################\n",
      "\n",
      "University                                        PP_top10  \n",
      "\n",
      "Federal University of Uberlândia                  0.0679811092919161\n",
      "Universidade Federal do Rio de Janeiro            0.0645691142429298\n",
      "Universidade Federal da Bahia                     0.0619537705143072\n",
      "Universidade Federal de Santa Catarina            0.061688635513299\n",
      "University of São Paulo                           0.0591068765363544\n",
      "\n",
      "###########################\n",
      "# Life and earth sciences #\n",
      "###########################\n",
      "\n",
      "University                                        PP_top10  \n",
      "\n",
      "University of Campinas                            0.0868527697972276\n",
      "Universidade Federal de São Paulo                 0.084795353981237\n",
      "Universidade Federal de Santa Catarina            0.0712151009667014\n",
      "University of São Paulo                           0.0707719589698047\n",
      "Universidade Federal de Minas Gerais              0.0699860862449875\n",
      "\n",
      "####################################\n",
      "# Mathematics and computer science #\n",
      "####################################\n",
      "\n",
      "University                                        PP_top10  \n",
      "\n",
      "Federal University of Paraíba                     0.117167624562674\n",
      "Universidade Federal Fluminense                   0.0988325746000777\n",
      "Federal University of Uberlândia                  0.0970053638971267\n",
      "Universidade Federal da Bahia                     0.0958443216535717\n",
      "Federal University of Santa Maria                 0.0950141154479464\n",
      "\n",
      "#####################################\n",
      "# Physical sciences and engineering #\n",
      "#####################################\n",
      "\n",
      "University                                        PP_top10  \n",
      "\n",
      "Universidade Federal do Ceará                     0.0880975238250176\n",
      "State University of Maringá                       0.0815748856183937\n",
      "Universidade Federal de Viçosa                    0.0801470608458945\n",
      "Federal University of São Carlos                  0.0771985915601507\n",
      "University of Campinas                            0.0743539818505927\n",
      "\n",
      "##################################\n",
      "# Social sciences and humanities #\n",
      "##################################\n",
      "\n",
      "University                                        PP_top10  \n",
      "\n",
      "Universidade Federal de Viçosa                    0.149214168322705\n",
      "Federal University of Rio Grande do Sul           0.09392083651646\n",
      "Federal University of Santa Maria                 0.0809317968374671\n",
      "Federal University of Uberlândia                  0.0683205260756836\n",
      "Universidade de Brasília                          0.0655364764922279\n",
      "\n"
     ]
    }
   ],
   "source": [
    "for field in fields:\n",
    "    top_5(df, field, \"PP_top10\")"
   ]
  },
  {
   "cell_type": "markdown",
   "metadata": {},
   "source": [
    "Perceba que o grupo de cinco unidades de destaque varia muito de acordo com a área do conhecimento que escolhemos. Isso revela que é difícil que uma universidade seja extremamente produtiva em todas as áreas. Assim, faz sentido destacar quem vai melhor em cada campo. \n",
    "\n",
    "Com base nos resultados acima, podemos elaborar uma lista de pesquisadores e departamentos para entrevistar consultando o banco de dados do *Web of Science*."
   ]
  },
  {
   "cell_type": "markdown",
   "metadata": {},
   "source": [
    "## 6. Universidades que mais produzem artigos em acesso aberto"
   ]
  },
  {
   "cell_type": "markdown",
   "metadata": {
    "collapsed": true
   },
   "source": [
    "Todos os recortes acima levam em consideração a **quantidade de artigos publicados** ou a **quantidade de citações** de cada universidade. Há, entretanto, outras métricas possíveis. A partir de agora, vamos olhar não apenas para o **impacto**, mas para as **características** da pesquisa de cada universidade.\n",
    "\n",
    "De início, vamos destacar as universidades com **mais artigos de acesso aberto, percentualmente** (`PP_OA`) – ou seja, artigos publicados em periódicos que podem ser acessados de forma livre."
   ]
  },
  {
   "cell_type": "markdown",
   "metadata": {},
   "source": [
    "### 6.1 Análise agregada"
   ]
  },
  {
   "cell_type": "markdown",
   "metadata": {},
   "source": [
    "Primeiro, vamos avaliar a produção aberta de cada universidade, na soma de todos os campos do conhecimento."
   ]
  },
  {
   "cell_type": "code",
   "execution_count": 19,
   "metadata": {},
   "outputs": [
    {
     "data": {
      "text/html": [
       "<div>\n",
       "<style>\n",
       "    .dataframe thead tr:only-child th {\n",
       "        text-align: right;\n",
       "    }\n",
       "\n",
       "    .dataframe thead th {\n",
       "        text-align: left;\n",
       "    }\n",
       "\n",
       "    .dataframe tbody tr th {\n",
       "        vertical-align: top;\n",
       "    }\n",
       "</style>\n",
       "<table border=\"1\" class=\"dataframe\">\n",
       "  <thead>\n",
       "    <tr style=\"text-align: right;\">\n",
       "      <th></th>\n",
       "      <th>University</th>\n",
       "      <th>Country</th>\n",
       "      <th>Field</th>\n",
       "      <th>Period</th>\n",
       "      <th>Frac_counting</th>\n",
       "      <th>impact_P</th>\n",
       "      <th>P_top10</th>\n",
       "      <th>PP_top10</th>\n",
       "      <th>P_int_collab</th>\n",
       "      <th>PP_int_collab</th>\n",
       "      <th>P_industry_collab</th>\n",
       "      <th>PP_industry_collab</th>\n",
       "      <th>P_OA</th>\n",
       "      <th>PP_OA</th>\n",
       "      <th>A_F</th>\n",
       "      <th>PA_F</th>\n",
       "      <th>PA_F_MF</th>\n",
       "    </tr>\n",
       "  </thead>\n",
       "  <tbody>\n",
       "    <tr>\n",
       "      <th>62333</th>\n",
       "      <td>Universidade Federal de São Paulo</td>\n",
       "      <td>Brazil</td>\n",
       "      <td>All sciences</td>\n",
       "      <td>2014–2017</td>\n",
       "      <td>1</td>\n",
       "      <td>2991.923594</td>\n",
       "      <td>135.530425</td>\n",
       "      <td>0.045299</td>\n",
       "      <td>2347.0</td>\n",
       "      <td>0.357993</td>\n",
       "      <td>195.0</td>\n",
       "      <td>0.029744</td>\n",
       "      <td>2986.0</td>\n",
       "      <td>0.455461</td>\n",
       "      <td>9966.0</td>\n",
       "      <td>0.484633</td>\n",
       "      <td>0.510396</td>\n",
       "    </tr>\n",
       "    <tr>\n",
       "      <th>48077</th>\n",
       "      <td>Rio de Janeiro State University</td>\n",
       "      <td>Brazil</td>\n",
       "      <td>All sciences</td>\n",
       "      <td>2014–2017</td>\n",
       "      <td>1</td>\n",
       "      <td>1227.712649</td>\n",
       "      <td>52.988689</td>\n",
       "      <td>0.043160</td>\n",
       "      <td>1307.0</td>\n",
       "      <td>0.411524</td>\n",
       "      <td>73.0</td>\n",
       "      <td>0.022985</td>\n",
       "      <td>1442.0</td>\n",
       "      <td>0.454030</td>\n",
       "      <td>3253.0</td>\n",
       "      <td>0.236204</td>\n",
       "      <td>0.442164</td>\n",
       "    </tr>\n",
       "    <tr>\n",
       "      <th>62765</th>\n",
       "      <td>Universidade Federal do Rio de Janeiro</td>\n",
       "      <td>Brazil</td>\n",
       "      <td>All sciences</td>\n",
       "      <td>2014–2017</td>\n",
       "      <td>1</td>\n",
       "      <td>4780.845925</td>\n",
       "      <td>311.112211</td>\n",
       "      <td>0.065075</td>\n",
       "      <td>4649.0</td>\n",
       "      <td>0.444455</td>\n",
       "      <td>423.0</td>\n",
       "      <td>0.040440</td>\n",
       "      <td>4458.0</td>\n",
       "      <td>0.426195</td>\n",
       "      <td>12191.0</td>\n",
       "      <td>0.361633</td>\n",
       "      <td>0.445920</td>\n",
       "    </tr>\n",
       "    <tr>\n",
       "      <th>15137</th>\n",
       "      <td>Federal University of Rio Grande do Norte</td>\n",
       "      <td>Brazil</td>\n",
       "      <td>All sciences</td>\n",
       "      <td>2014–2017</td>\n",
       "      <td>1</td>\n",
       "      <td>1439.328069</td>\n",
       "      <td>71.700217</td>\n",
       "      <td>0.049815</td>\n",
       "      <td>1159.0</td>\n",
       "      <td>0.393816</td>\n",
       "      <td>51.0</td>\n",
       "      <td>0.017329</td>\n",
       "      <td>1248.0</td>\n",
       "      <td>0.424057</td>\n",
       "      <td>3049.0</td>\n",
       "      <td>0.374939</td>\n",
       "      <td>0.425066</td>\n",
       "    </tr>\n",
       "    <tr>\n",
       "      <th>14921</th>\n",
       "      <td>Federal University of Paraíba</td>\n",
       "      <td>Brazil</td>\n",
       "      <td>All sciences</td>\n",
       "      <td>2014–2017</td>\n",
       "      <td>1</td>\n",
       "      <td>1067.786027</td>\n",
       "      <td>67.484676</td>\n",
       "      <td>0.063201</td>\n",
       "      <td>738.0</td>\n",
       "      <td>0.319342</td>\n",
       "      <td>25.0</td>\n",
       "      <td>0.010818</td>\n",
       "      <td>979.0</td>\n",
       "      <td>0.423626</td>\n",
       "      <td>1815.0</td>\n",
       "      <td>0.318757</td>\n",
       "      <td>0.363582</td>\n",
       "    </tr>\n",
       "  </tbody>\n",
       "</table>\n",
       "</div>"
      ],
      "text/plain": [
       "                                      University Country         Field  \\\n",
       "62333          Universidade Federal de São Paulo  Brazil  All sciences   \n",
       "48077            Rio de Janeiro State University  Brazil  All sciences   \n",
       "62765     Universidade Federal do Rio de Janeiro  Brazil  All sciences   \n",
       "15137  Federal University of Rio Grande do Norte  Brazil  All sciences   \n",
       "14921              Federal University of Paraíba  Brazil  All sciences   \n",
       "\n",
       "          Period  Frac_counting     impact_P     P_top10  PP_top10  \\\n",
       "62333  2014–2017              1  2991.923594  135.530425  0.045299   \n",
       "48077  2014–2017              1  1227.712649   52.988689  0.043160   \n",
       "62765  2014–2017              1  4780.845925  311.112211  0.065075   \n",
       "15137  2014–2017              1  1439.328069   71.700217  0.049815   \n",
       "14921  2014–2017              1  1067.786027   67.484676  0.063201   \n",
       "\n",
       "       P_int_collab  PP_int_collab  P_industry_collab  PP_industry_collab  \\\n",
       "62333        2347.0       0.357993              195.0            0.029744   \n",
       "48077        1307.0       0.411524               73.0            0.022985   \n",
       "62765        4649.0       0.444455              423.0            0.040440   \n",
       "15137        1159.0       0.393816               51.0            0.017329   \n",
       "14921         738.0       0.319342               25.0            0.010818   \n",
       "\n",
       "         P_OA     PP_OA      A_F      PA_F   PA_F_MF  \n",
       "62333  2986.0  0.455461   9966.0  0.484633  0.510396  \n",
       "48077  1442.0  0.454030   3253.0  0.236204  0.442164  \n",
       "62765  4458.0  0.426195  12191.0  0.361633  0.445920  \n",
       "15137  1248.0  0.424057   3049.0  0.374939  0.425066  \n",
       "14921   979.0  0.423626   1815.0  0.318757  0.363582  "
      ]
     },
     "execution_count": 19,
     "metadata": {},
     "output_type": "execute_result"
    }
   ],
   "source": [
    "df [ df.Field == \"All sciences\" ].sort_values(by = \"PP_OA\", ascending = False).head(5)"
   ]
  },
  {
   "cell_type": "markdown",
   "metadata": {},
   "source": [
    "A **Unifesp** não é apenas uma das universidades que mais publicam no país, mas é a que mais cria conteúdo de acesso aberto: 45.6% de suas publicações são livres. Em segundo, porém, vem a **UERJ** (45.4%). UFRJ, UFRN e UFPB vêm em seguida, com um indicador próximo de 42%."
   ]
  },
  {
   "cell_type": "markdown",
   "metadata": {},
   "source": [
    "### 6.2 Análise por campo do conhecimento"
   ]
  },
  {
   "cell_type": "markdown",
   "metadata": {
    "collapsed": true
   },
   "source": [
    "Será que as publicações abertas dessas universidades se concentram em algum campo específico? Vamos verificar segmentando o recorte por áreas do conhecimento."
   ]
  },
  {
   "cell_type": "code",
   "execution_count": 20,
   "metadata": {},
   "outputs": [
    {
     "name": "stdout",
     "output_type": "stream",
     "text": [
      "##################################\n",
      "# Biomedical and health sciences #\n",
      "##################################\n",
      "\n",
      "University                                        PP_OA     \n",
      "\n",
      "Universidade Federal do Rio de Janeiro            0.491830985915493\n",
      "Universidade Federal da Bahia                     0.488281856278131\n",
      "Federal University of Rio Grande do Norte         0.482740943267259\n",
      "Universidade Federal de São Paulo                 0.478839863827515\n",
      "Universidade de Brasília                          0.465950284826515\n",
      "\n",
      "###########################\n",
      "# Life and earth sciences #\n",
      "###########################\n",
      "\n",
      "University                                        PP_OA     \n",
      "\n",
      "Universidade Federal de São Paulo                 0.405367231638418\n",
      "Universidade Federal de Minas Gerais              0.374498439589835\n",
      "Universidade Federal de Goiás                     0.355905818252578\n",
      "Federal University of Uberlândia                  0.343065693430657\n",
      "University of São Paulo                           0.338853756688631\n",
      "\n",
      "####################################\n",
      "# Mathematics and computer science #\n",
      "####################################\n",
      "\n",
      "University                                        PP_OA     \n",
      "\n",
      "Universidade Federal da Bahia                     0.371967654986523\n",
      "Universidade Federal Fluminense                   0.358230958230958\n",
      "University of São Paulo                           0.333574529667149\n",
      "Universidade de Brasília                          0.321689683184403\n",
      "Universidade Federal do Rio de Janeiro            0.300762729334158\n",
      "\n",
      "#####################################\n",
      "# Physical sciences and engineering #\n",
      "#####################################\n",
      "\n",
      "University                                        PP_OA     \n",
      "\n",
      "Rio de Janeiro State University                   0.655060034305317\n",
      "Federal University of Paraíba                     0.517905759162304\n",
      "Universidade Estadual Paulista                    0.481523562192284\n",
      "Federal University of Rio Grande do Norte         0.467483827034389\n",
      "Universidade Federal do Rio de Janeiro            0.459831264441937\n",
      "\n",
      "##################################\n",
      "# Social sciences and humanities #\n",
      "##################################\n",
      "\n",
      "University                                        PP_OA     \n",
      "\n",
      "Universidade Federal de São Paulo                 0.537764350453172\n",
      "Federal University of Rio Grande do Norte         0.37621359223301\n",
      "Universidade Federal do Paraná                    0.366666666666667\n",
      "State University of Maringá                       0.338983050847458\n",
      "Universidade Federal da Bahia                     0.326488706365503\n",
      "\n"
     ]
    }
   ],
   "source": [
    "for field in fields:\n",
    "    top_5(df, field, \"PP_OA\")"
   ]
  },
  {
   "cell_type": "markdown",
   "metadata": {},
   "source": [
    "A prudução de acesso aberto da **UERJ**, que já apareceu com destaque na soma de todos os campos do conhecimento, se destaca ainda mais quando segmentamos os resultados por área. 65.6% do conteúdo publicado na área de *Physical sciences and engineering* é livre."
   ]
  },
  {
   "cell_type": "markdown",
   "metadata": {},
   "source": [
    "## 7. Universidades que mais colaboram com universidades estrangeiras"
   ]
  },
  {
   "cell_type": "markdown",
   "metadata": {
    "collapsed": true
   },
   "source": [
    "Outra métrica interessante é quantas pesquisas a universidade realizou em colaboração com instituições estrangeiras. Vamos, novamente, usar a medida em percentual (`PP_int_collab`). "
   ]
  },
  {
   "cell_type": "markdown",
   "metadata": {},
   "source": [
    "### 7.1 Análise agregada"
   ]
  },
  {
   "cell_type": "markdown",
   "metadata": {
    "collapsed": true
   },
   "source": [
    "De início, como usual, vamos ver o desempenho de cada universidade no agregado dos campos do conhecimento."
   ]
  },
  {
   "cell_type": "code",
   "execution_count": 21,
   "metadata": {},
   "outputs": [
    {
     "data": {
      "text/html": [
       "<div>\n",
       "<style>\n",
       "    .dataframe thead tr:only-child th {\n",
       "        text-align: right;\n",
       "    }\n",
       "\n",
       "    .dataframe thead th {\n",
       "        text-align: left;\n",
       "    }\n",
       "\n",
       "    .dataframe tbody tr th {\n",
       "        vertical-align: top;\n",
       "    }\n",
       "</style>\n",
       "<table border=\"1\" class=\"dataframe\">\n",
       "  <thead>\n",
       "    <tr style=\"text-align: right;\">\n",
       "      <th></th>\n",
       "      <th>University</th>\n",
       "      <th>Country</th>\n",
       "      <th>Field</th>\n",
       "      <th>Period</th>\n",
       "      <th>Frac_counting</th>\n",
       "      <th>impact_P</th>\n",
       "      <th>P_top10</th>\n",
       "      <th>PP_top10</th>\n",
       "      <th>P_int_collab</th>\n",
       "      <th>PP_int_collab</th>\n",
       "      <th>P_industry_collab</th>\n",
       "      <th>PP_industry_collab</th>\n",
       "      <th>P_OA</th>\n",
       "      <th>PP_OA</th>\n",
       "      <th>A_F</th>\n",
       "      <th>PA_F</th>\n",
       "      <th>PA_F_MF</th>\n",
       "    </tr>\n",
       "  </thead>\n",
       "  <tbody>\n",
       "    <tr>\n",
       "      <th>62765</th>\n",
       "      <td>Universidade Federal do Rio de Janeiro</td>\n",
       "      <td>Brazil</td>\n",
       "      <td>All sciences</td>\n",
       "      <td>2014–2017</td>\n",
       "      <td>1</td>\n",
       "      <td>4780.845925</td>\n",
       "      <td>311.112211</td>\n",
       "      <td>0.065075</td>\n",
       "      <td>4649.0</td>\n",
       "      <td>0.444455</td>\n",
       "      <td>423.0</td>\n",
       "      <td>0.040440</td>\n",
       "      <td>4458.0</td>\n",
       "      <td>0.426195</td>\n",
       "      <td>12191.0</td>\n",
       "      <td>0.361633</td>\n",
       "      <td>0.445920</td>\n",
       "    </tr>\n",
       "    <tr>\n",
       "      <th>89333</th>\n",
       "      <td>University of São Paulo</td>\n",
       "      <td>Brazil</td>\n",
       "      <td>All sciences</td>\n",
       "      <td>2014–2017</td>\n",
       "      <td>1</td>\n",
       "      <td>16845.891826</td>\n",
       "      <td>1050.728503</td>\n",
       "      <td>0.062373</td>\n",
       "      <td>14757.0</td>\n",
       "      <td>0.443220</td>\n",
       "      <td>819.0</td>\n",
       "      <td>0.024598</td>\n",
       "      <td>13694.0</td>\n",
       "      <td>0.411293</td>\n",
       "      <td>39490.0</td>\n",
       "      <td>0.383737</td>\n",
       "      <td>0.419179</td>\n",
       "    </tr>\n",
       "    <tr>\n",
       "      <th>61577</th>\n",
       "      <td>Universidade de Brasília</td>\n",
       "      <td>Brazil</td>\n",
       "      <td>All sciences</td>\n",
       "      <td>2014–2017</td>\n",
       "      <td>1</td>\n",
       "      <td>1761.322343</td>\n",
       "      <td>92.952347</td>\n",
       "      <td>0.052774</td>\n",
       "      <td>1673.0</td>\n",
       "      <td>0.437043</td>\n",
       "      <td>97.0</td>\n",
       "      <td>0.025340</td>\n",
       "      <td>1398.0</td>\n",
       "      <td>0.365204</td>\n",
       "      <td>3259.0</td>\n",
       "      <td>0.348184</td>\n",
       "      <td>0.384452</td>\n",
       "    </tr>\n",
       "    <tr>\n",
       "      <th>48077</th>\n",
       "      <td>Rio de Janeiro State University</td>\n",
       "      <td>Brazil</td>\n",
       "      <td>All sciences</td>\n",
       "      <td>2014–2017</td>\n",
       "      <td>1</td>\n",
       "      <td>1227.712649</td>\n",
       "      <td>52.988689</td>\n",
       "      <td>0.043160</td>\n",
       "      <td>1307.0</td>\n",
       "      <td>0.411524</td>\n",
       "      <td>73.0</td>\n",
       "      <td>0.022985</td>\n",
       "      <td>1442.0</td>\n",
       "      <td>0.454030</td>\n",
       "      <td>3253.0</td>\n",
       "      <td>0.236204</td>\n",
       "      <td>0.442164</td>\n",
       "    </tr>\n",
       "    <tr>\n",
       "      <th>62225</th>\n",
       "      <td>Universidade Federal de Santa Catarina</td>\n",
       "      <td>Brazil</td>\n",
       "      <td>All sciences</td>\n",
       "      <td>2014–2017</td>\n",
       "      <td>1</td>\n",
       "      <td>2596.592015</td>\n",
       "      <td>172.235697</td>\n",
       "      <td>0.066331</td>\n",
       "      <td>2032.0</td>\n",
       "      <td>0.409595</td>\n",
       "      <td>139.0</td>\n",
       "      <td>0.028019</td>\n",
       "      <td>1383.0</td>\n",
       "      <td>0.278774</td>\n",
       "      <td>5448.0</td>\n",
       "      <td>0.387979</td>\n",
       "      <td>0.418884</td>\n",
       "    </tr>\n",
       "  </tbody>\n",
       "</table>\n",
       "</div>"
      ],
      "text/plain": [
       "                                   University Country         Field  \\\n",
       "62765  Universidade Federal do Rio de Janeiro  Brazil  All sciences   \n",
       "89333                 University of São Paulo  Brazil  All sciences   \n",
       "61577                Universidade de Brasília  Brazil  All sciences   \n",
       "48077         Rio de Janeiro State University  Brazil  All sciences   \n",
       "62225  Universidade Federal de Santa Catarina  Brazil  All sciences   \n",
       "\n",
       "          Period  Frac_counting      impact_P      P_top10  PP_top10  \\\n",
       "62765  2014–2017              1   4780.845925   311.112211  0.065075   \n",
       "89333  2014–2017              1  16845.891826  1050.728503  0.062373   \n",
       "61577  2014–2017              1   1761.322343    92.952347  0.052774   \n",
       "48077  2014–2017              1   1227.712649    52.988689  0.043160   \n",
       "62225  2014–2017              1   2596.592015   172.235697  0.066331   \n",
       "\n",
       "       P_int_collab  PP_int_collab  P_industry_collab  PP_industry_collab  \\\n",
       "62765        4649.0       0.444455              423.0            0.040440   \n",
       "89333       14757.0       0.443220              819.0            0.024598   \n",
       "61577        1673.0       0.437043               97.0            0.025340   \n",
       "48077        1307.0       0.411524               73.0            0.022985   \n",
       "62225        2032.0       0.409595              139.0            0.028019   \n",
       "\n",
       "          P_OA     PP_OA      A_F      PA_F   PA_F_MF  \n",
       "62765   4458.0  0.426195  12191.0  0.361633  0.445920  \n",
       "89333  13694.0  0.411293  39490.0  0.383737  0.419179  \n",
       "61577   1398.0  0.365204   3259.0  0.348184  0.384452  \n",
       "48077   1442.0  0.454030   3253.0  0.236204  0.442164  \n",
       "62225   1383.0  0.278774   5448.0  0.387979  0.418884  "
      ]
     },
     "execution_count": 21,
     "metadata": {},
     "output_type": "execute_result"
    }
   ],
   "source": [
    "df [ df.Field == \"All sciences\" ].sort_values(by = \"PP_int_collab\", ascending = False).head(5)"
   ]
  },
  {
   "cell_type": "markdown",
   "metadata": {},
   "source": [
    "**UFRJ**, **USP**, **UnB**, **UERJ** e **UFSC** aparecem em posições de destaque."
   ]
  },
  {
   "cell_type": "markdown",
   "metadata": {},
   "source": [
    "Para termos melhor referência, vamos olhar também para a média de colaboração nas universidades do país."
   ]
  },
  {
   "cell_type": "code",
   "execution_count": 22,
   "metadata": {},
   "outputs": [
    {
     "data": {
      "text/plain": [
       "0.3886358914364735"
      ]
     },
     "execution_count": 22,
     "metadata": {},
     "output_type": "execute_result"
    }
   ],
   "source": [
    "df.PP_int_collab.mean()"
   ]
  },
  {
   "cell_type": "markdown",
   "metadata": {},
   "source": [
    "### 7.2 Análise por campo do conhecimento"
   ]
  },
  {
   "cell_type": "markdown",
   "metadata": {
    "collapsed": true
   },
   "source": [
    "Agora, vamos repetir o recorte, mas olhando para campos do conhecimento individuais."
   ]
  },
  {
   "cell_type": "code",
   "execution_count": 23,
   "metadata": {},
   "outputs": [
    {
     "name": "stdout",
     "output_type": "stream",
     "text": [
      "##################################\n",
      "# Biomedical and health sciences #\n",
      "##################################\n",
      "\n",
      "University                                        PP_int_collab\n",
      "\n",
      "Universidade Federal de Santa Catarina            0.41505376344086\n",
      "Universidade de Brasília                          0.395649922320041\n",
      "University of São Paulo                           0.39494155287426\n",
      "Universidade Federal do Rio de Janeiro            0.392762730227519\n",
      "Universidade Federal da Bahia                     0.387862796833773\n",
      "\n",
      "###########################\n",
      "# Life and earth sciences #\n",
      "###########################\n",
      "\n",
      "University                                        PP_int_collab\n",
      "\n",
      "Universidade de Brasília                          0.457270319252753\n",
      "University of São Paulo                           0.456639985848849\n",
      "Federal University of Pernambuco                  0.434232954545454\n",
      "Universidade Federal Fluminense                   0.420521653543307\n",
      "Universidade Federal de Minas Gerais              0.417298261257245\n",
      "\n",
      "####################################\n",
      "# Mathematics and computer science #\n",
      "####################################\n",
      "\n",
      "University                                        PP_int_collab\n",
      "\n",
      "Federal University of Rio Grande do Sul           0.515010006671114\n",
      "Universidade Federal de Santa Catarina            0.488337095560572\n",
      "University of São Paulo                           0.472232272069465\n",
      "Universidade Federal do Paraná                    0.466549295774648\n",
      "Universidade Federal da Bahia                     0.460916442048518\n",
      "\n",
      "#####################################\n",
      "# Physical sciences and engineering #\n",
      "#####################################\n",
      "\n",
      "University                                        PP_int_collab\n",
      "\n",
      "Rio de Janeiro State University                   0.598284734133791\n",
      "Universidade Federal do Rio de Janeiro            0.546294803589661\n",
      "University of São Paulo                           0.528663164039698\n",
      "Universidade Estadual Paulista                    0.497375967104907\n",
      "University of Campinas                            0.476522066434553\n",
      "\n",
      "##################################\n",
      "# Social sciences and humanities #\n",
      "##################################\n",
      "\n",
      "University                                        PP_int_collab\n",
      "\n",
      "Federal University of Paraíba                     0.71356783919598\n",
      "Universidade Federal da Bahia                     0.566735112936345\n",
      "Universidade Federal do Ceará                     0.565217391304348\n",
      "Universidade Federal do Paraná                    0.56      \n",
      "Universidade de Brasília                          0.530694668820679\n",
      "\n"
     ]
    }
   ],
   "source": [
    "for field in fields:\n",
    "    top_5(df, field, \"PP_int_collab\")"
   ]
  },
  {
   "cell_type": "markdown",
   "metadata": {},
   "source": [
    "O segmento de *Social sciences and humanities* da **UFPB** tem uma quantidade assustadora de pesquisas em colaboração: 71%. Vale o destaque."
   ]
  },
  {
   "cell_type": "markdown",
   "metadata": {},
   "source": [
    "## 8. Universidades com mais mulheres pesquisadoras"
   ]
  },
  {
   "cell_type": "markdown",
   "metadata": {},
   "source": [
    "A participação de mulheres no cenário acadêmico também é um indicador de interesse. Podemos ver quem se destaca nesse aspecto usando o indicador `PA_F_MF`, que calcula o percentual de autores mulheres sobre o **percentual de autores homens e mulheres**. Isso quer dizer que a conta ignora os pesquisadores com gênero desconhecido ou ambíguo. \n",
    "\n",
    "Essas incertezas surgem porque a classificação feita pelo Lieden Ranking é automatizada. O sistema usa pacotes de programação que reconhecem e associam nomes comuns a um respectivo gênero. Assim, nomes incomuns ou que podem servir tanto para homens quanto melhores são ignorados pelo indicador selecionado."
   ]
  },
  {
   "cell_type": "markdown",
   "metadata": {},
   "source": [
    "### 8.1 Análise agregada"
   ]
  },
  {
   "cell_type": "markdown",
   "metadata": {},
   "source": [
    "Primeiro, assim como antes, vamos ver o desempenho das universidades na soma de todas as áreas do conhecimento."
   ]
  },
  {
   "cell_type": "code",
   "execution_count": 24,
   "metadata": {},
   "outputs": [
    {
     "data": {
      "text/html": [
       "<div>\n",
       "<style>\n",
       "    .dataframe thead tr:only-child th {\n",
       "        text-align: right;\n",
       "    }\n",
       "\n",
       "    .dataframe thead th {\n",
       "        text-align: left;\n",
       "    }\n",
       "\n",
       "    .dataframe tbody tr th {\n",
       "        vertical-align: top;\n",
       "    }\n",
       "</style>\n",
       "<table border=\"1\" class=\"dataframe\">\n",
       "  <thead>\n",
       "    <tr style=\"text-align: right;\">\n",
       "      <th></th>\n",
       "      <th>University</th>\n",
       "      <th>Country</th>\n",
       "      <th>Field</th>\n",
       "      <th>Period</th>\n",
       "      <th>Frac_counting</th>\n",
       "      <th>impact_P</th>\n",
       "      <th>P_top10</th>\n",
       "      <th>PP_top10</th>\n",
       "      <th>P_int_collab</th>\n",
       "      <th>PP_int_collab</th>\n",
       "      <th>P_industry_collab</th>\n",
       "      <th>PP_industry_collab</th>\n",
       "      <th>P_OA</th>\n",
       "      <th>PP_OA</th>\n",
       "      <th>A_F</th>\n",
       "      <th>PA_F</th>\n",
       "      <th>PA_F_MF</th>\n",
       "    </tr>\n",
       "  </thead>\n",
       "  <tbody>\n",
       "    <tr>\n",
       "      <th>54341</th>\n",
       "      <td>State University of Maringá</td>\n",
       "      <td>Brazil</td>\n",
       "      <td>All sciences</td>\n",
       "      <td>2014–2017</td>\n",
       "      <td>1</td>\n",
       "      <td>1288.118676</td>\n",
       "      <td>76.377662</td>\n",
       "      <td>0.059294</td>\n",
       "      <td>633.0</td>\n",
       "      <td>0.281333</td>\n",
       "      <td>34.0</td>\n",
       "      <td>0.015111</td>\n",
       "      <td>682.0</td>\n",
       "      <td>0.303111</td>\n",
       "      <td>4254.0</td>\n",
       "      <td>0.507456</td>\n",
       "      <td>0.541153</td>\n",
       "    </tr>\n",
       "    <tr>\n",
       "      <th>62333</th>\n",
       "      <td>Universidade Federal de São Paulo</td>\n",
       "      <td>Brazil</td>\n",
       "      <td>All sciences</td>\n",
       "      <td>2014–2017</td>\n",
       "      <td>1</td>\n",
       "      <td>2991.923594</td>\n",
       "      <td>135.530425</td>\n",
       "      <td>0.045299</td>\n",
       "      <td>2347.0</td>\n",
       "      <td>0.357993</td>\n",
       "      <td>195.0</td>\n",
       "      <td>0.029744</td>\n",
       "      <td>2986.0</td>\n",
       "      <td>0.455461</td>\n",
       "      <td>9966.0</td>\n",
       "      <td>0.484633</td>\n",
       "      <td>0.510396</td>\n",
       "    </tr>\n",
       "    <tr>\n",
       "      <th>15353</th>\n",
       "      <td>Federal University of Santa Maria</td>\n",
       "      <td>Brazil</td>\n",
       "      <td>All sciences</td>\n",
       "      <td>2014–2017</td>\n",
       "      <td>1</td>\n",
       "      <td>1666.459169</td>\n",
       "      <td>86.083091</td>\n",
       "      <td>0.051656</td>\n",
       "      <td>895.0</td>\n",
       "      <td>0.301550</td>\n",
       "      <td>46.0</td>\n",
       "      <td>0.015499</td>\n",
       "      <td>709.0</td>\n",
       "      <td>0.238881</td>\n",
       "      <td>5671.0</td>\n",
       "      <td>0.477638</td>\n",
       "      <td>0.505122</td>\n",
       "    </tr>\n",
       "    <tr>\n",
       "      <th>15245</th>\n",
       "      <td>Federal University of Rio Grande do Sul</td>\n",
       "      <td>Brazil</td>\n",
       "      <td>All sciences</td>\n",
       "      <td>2014–2017</td>\n",
       "      <td>1</td>\n",
       "      <td>5372.214621</td>\n",
       "      <td>324.863294</td>\n",
       "      <td>0.060471</td>\n",
       "      <td>3707.0</td>\n",
       "      <td>0.382717</td>\n",
       "      <td>240.0</td>\n",
       "      <td>0.024778</td>\n",
       "      <td>3272.0</td>\n",
       "      <td>0.337807</td>\n",
       "      <td>15098.0</td>\n",
       "      <td>0.467923</td>\n",
       "      <td>0.494789</td>\n",
       "    </tr>\n",
       "    <tr>\n",
       "      <th>62117</th>\n",
       "      <td>Universidade Federal de Minas Gerais</td>\n",
       "      <td>Brazil</td>\n",
       "      <td>All sciences</td>\n",
       "      <td>2014–2017</td>\n",
       "      <td>1</td>\n",
       "      <td>4121.372963</td>\n",
       "      <td>252.693862</td>\n",
       "      <td>0.061313</td>\n",
       "      <td>3096.0</td>\n",
       "      <td>0.386372</td>\n",
       "      <td>188.0</td>\n",
       "      <td>0.023462</td>\n",
       "      <td>3079.0</td>\n",
       "      <td>0.384251</td>\n",
       "      <td>11568.0</td>\n",
       "      <td>0.441982</td>\n",
       "      <td>0.469442</td>\n",
       "    </tr>\n",
       "  </tbody>\n",
       "</table>\n",
       "</div>"
      ],
      "text/plain": [
       "                                    University Country         Field  \\\n",
       "54341              State University of Maringá  Brazil  All sciences   \n",
       "62333        Universidade Federal de São Paulo  Brazil  All sciences   \n",
       "15353        Federal University of Santa Maria  Brazil  All sciences   \n",
       "15245  Federal University of Rio Grande do Sul  Brazil  All sciences   \n",
       "62117     Universidade Federal de Minas Gerais  Brazil  All sciences   \n",
       "\n",
       "          Period  Frac_counting     impact_P     P_top10  PP_top10  \\\n",
       "54341  2014–2017              1  1288.118676   76.377662  0.059294   \n",
       "62333  2014–2017              1  2991.923594  135.530425  0.045299   \n",
       "15353  2014–2017              1  1666.459169   86.083091  0.051656   \n",
       "15245  2014–2017              1  5372.214621  324.863294  0.060471   \n",
       "62117  2014–2017              1  4121.372963  252.693862  0.061313   \n",
       "\n",
       "       P_int_collab  PP_int_collab  P_industry_collab  PP_industry_collab  \\\n",
       "54341         633.0       0.281333               34.0            0.015111   \n",
       "62333        2347.0       0.357993              195.0            0.029744   \n",
       "15353         895.0       0.301550               46.0            0.015499   \n",
       "15245        3707.0       0.382717              240.0            0.024778   \n",
       "62117        3096.0       0.386372              188.0            0.023462   \n",
       "\n",
       "         P_OA     PP_OA      A_F      PA_F   PA_F_MF  \n",
       "54341   682.0  0.303111   4254.0  0.507456  0.541153  \n",
       "62333  2986.0  0.455461   9966.0  0.484633  0.510396  \n",
       "15353   709.0  0.238881   5671.0  0.477638  0.505122  \n",
       "15245  3272.0  0.337807  15098.0  0.467923  0.494789  \n",
       "62117  3079.0  0.384251  11568.0  0.441982  0.469442  "
      ]
     },
     "execution_count": 24,
     "metadata": {},
     "output_type": "execute_result"
    }
   ],
   "source": [
    "df [ df.Field == \"All sciences\" ].sort_values(by = \"PA_F_MF\", ascending = False).head(5)"
   ]
  },
  {
   "cell_type": "markdown",
   "metadata": {},
   "source": [
    "**UEM**, **USP** e **UFSM** são universidades que têm mais de 50% de mulheres autoras – situação próxima à paridade de gênero."
   ]
  },
  {
   "cell_type": "markdown",
   "metadata": {},
   "source": [
    "Para colocar esse dado em contexto, vamos ver também qual é a média de todas as universidades brasileiras no ranking."
   ]
  },
  {
   "cell_type": "code",
   "execution_count": 25,
   "metadata": {},
   "outputs": [
    {
     "name": "stdout",
     "output_type": "stream",
     "text": [
      "All sciences – 0.4368138203462944\n",
      "Biomedical and health sciences – 0.5304707702358401\n",
      "Life and earth sciences – 0.44959380498193724\n",
      "Mathematics and computer science – 0.1764498007498029\n",
      "Physical sciences and engineering – 0.3142433260137763\n",
      "Social sciences and humanities – 0.40702180584376335\n"
     ]
    }
   ],
   "source": [
    "for field in df.Field.unique():\n",
    "    print(field, \"–\", df [ df.Field == field ][\"PA_F_MF\"].mean())"
   ]
  },
  {
   "cell_type": "markdown",
   "metadata": {},
   "source": [
    "Na média, mulheres são 43.6% dos autores nas universidades. As três instituições citadas acima estão de fato bastante acima das demais."
   ]
  },
  {
   "cell_type": "markdown",
   "metadata": {
    "collapsed": true
   },
   "source": [
    "### 8.2 Análise por campo do conhecimento"
   ]
  },
  {
   "cell_type": "markdown",
   "metadata": {},
   "source": [
    "Vamos ver a quantidade de mulheres pesquisadoras em cada área do conhecimento, também."
   ]
  },
  {
   "cell_type": "code",
   "execution_count": 26,
   "metadata": {},
   "outputs": [
    {
     "name": "stdout",
     "output_type": "stream",
     "text": [
      "##################################\n",
      "# Biomedical and health sciences #\n",
      "##################################\n",
      "\n",
      "University                                        PA_F_MF   \n",
      "\n",
      "State University of Maringá                       0.635043507740988\n",
      "Federal University of Santa Maria                 0.609436844663565\n",
      "Federal University of Rio Grande do Sul           0.569632177824821\n",
      "Federal University of São Carlos                  0.566644488800177\n",
      "Universidade Federal de Goiás                     0.557648660916931\n",
      "\n",
      "###########################\n",
      "# Life and earth sciences #\n",
      "###########################\n",
      "\n",
      "University                                        PA_F_MF   \n",
      "\n",
      "State University of Maringá                       0.564000238251236\n",
      "Universidade Federal de São Paulo                 0.505945366898768\n",
      "Federal University of Pernambuco                  0.493700419972002\n",
      "Rio de Janeiro State University                   0.487760416666667\n",
      "Universidade Federal do Rio de Janeiro            0.485428907168038\n",
      "\n",
      "####################################\n",
      "# Mathematics and computer science #\n",
      "####################################\n",
      "\n",
      "University                                        PA_F_MF   \n",
      "\n",
      "Universidade Federal de São Paulo                 0.345762711864407\n",
      "Rio de Janeiro State University                   0.27715996578272\n",
      "Universidade Federal Fluminense                   0.230003212335368\n",
      "Universidade Federal do Paraná                    0.222641509433962\n",
      "State University of Maringá                       0.206764027671022\n",
      "\n",
      "#####################################\n",
      "# Physical sciences and engineering #\n",
      "#####################################\n",
      "\n",
      "University                                        PA_F_MF   \n",
      "\n",
      "Universidade Federal de São Paulo                 0.438441749356854\n",
      "State University of Maringá                       0.403901734104046\n",
      "Federal University of Santa Maria                 0.4021484375\n",
      "Federal University of Rio Grande do Sul           0.401672039779247\n",
      "Universidade Federal do Paraná                    0.367419026522182\n",
      "\n",
      "##################################\n",
      "# Social sciences and humanities #\n",
      "##################################\n",
      "\n",
      "University                                        PA_F_MF   \n",
      "\n",
      "Rio de Janeiro State University                   0.523148148148148\n",
      "Universidade Federal de São Paulo                 0.509330406147091\n",
      "Universidade Federal de Minas Gerais              0.485551195148056\n",
      "Universidade Federal da Bahia                     0.482717520858164\n",
      "Federal University of Rio Grande do Norte         0.478960396039604\n",
      "\n"
     ]
    }
   ],
   "source": [
    "for field in fields:\n",
    "    top_5(df, field, \"PA_F_MF\")"
   ]
  },
  {
   "cell_type": "markdown",
   "metadata": {},
   "source": [
    "Como era de se imaginar, vemos que a quantidade de mulheres autoras é maior na área de *Biomedical and health sciences* e menor em áreas 'duras' como *Mathematics and computer science* e *Physical sciences and engineering*. A **UEM**, entretanto, aparece entre as cinco universidades com mais mulheres pesquisadoras em quatro dos cinco campos do conhecimento. Fica de fora apenas em *Social sciences and humanities*."
   ]
  },
  {
   "cell_type": "markdown",
   "metadata": {},
   "source": [
    "## 9. Colaboração com a indústria"
   ]
  },
  {
   "cell_type": "markdown",
   "metadata": {},
   "source": [
    "O último recorte da análise é o percentual de **artigos publicados em colaboração com entidades privadas**, excluindo hospitais e instituições de ensino (`PP_industry_collab`)."
   ]
  },
  {
   "cell_type": "markdown",
   "metadata": {},
   "source": [
    "### 9.1 Análise agregada"
   ]
  },
  {
   "cell_type": "markdown",
   "metadata": {},
   "source": [
    "Primeiro, como sempre, a análise de todas as áreas juntas."
   ]
  },
  {
   "cell_type": "code",
   "execution_count": 27,
   "metadata": {},
   "outputs": [
    {
     "data": {
      "text/html": [
       "<div>\n",
       "<style>\n",
       "    .dataframe thead tr:only-child th {\n",
       "        text-align: right;\n",
       "    }\n",
       "\n",
       "    .dataframe thead th {\n",
       "        text-align: left;\n",
       "    }\n",
       "\n",
       "    .dataframe tbody tr th {\n",
       "        vertical-align: top;\n",
       "    }\n",
       "</style>\n",
       "<table border=\"1\" class=\"dataframe\">\n",
       "  <thead>\n",
       "    <tr style=\"text-align: right;\">\n",
       "      <th></th>\n",
       "      <th>University</th>\n",
       "      <th>Country</th>\n",
       "      <th>Field</th>\n",
       "      <th>Period</th>\n",
       "      <th>Frac_counting</th>\n",
       "      <th>impact_P</th>\n",
       "      <th>P_top10</th>\n",
       "      <th>PP_top10</th>\n",
       "      <th>P_int_collab</th>\n",
       "      <th>PP_int_collab</th>\n",
       "      <th>P_industry_collab</th>\n",
       "      <th>PP_industry_collab</th>\n",
       "      <th>P_OA</th>\n",
       "      <th>PP_OA</th>\n",
       "      <th>A_F</th>\n",
       "      <th>PA_F</th>\n",
       "      <th>PA_F_MF</th>\n",
       "    </tr>\n",
       "  </thead>\n",
       "  <tbody>\n",
       "    <tr>\n",
       "      <th>62765</th>\n",
       "      <td>Universidade Federal do Rio de Janeiro</td>\n",
       "      <td>Brazil</td>\n",
       "      <td>All sciences</td>\n",
       "      <td>2014–2017</td>\n",
       "      <td>1</td>\n",
       "      <td>4780.845925</td>\n",
       "      <td>311.112211</td>\n",
       "      <td>0.065075</td>\n",
       "      <td>4649.0</td>\n",
       "      <td>0.444455</td>\n",
       "      <td>423.0</td>\n",
       "      <td>0.040440</td>\n",
       "      <td>4458.0</td>\n",
       "      <td>0.426195</td>\n",
       "      <td>12191.0</td>\n",
       "      <td>0.361633</td>\n",
       "      <td>0.445920</td>\n",
       "    </tr>\n",
       "    <tr>\n",
       "      <th>62333</th>\n",
       "      <td>Universidade Federal de São Paulo</td>\n",
       "      <td>Brazil</td>\n",
       "      <td>All sciences</td>\n",
       "      <td>2014–2017</td>\n",
       "      <td>1</td>\n",
       "      <td>2991.923594</td>\n",
       "      <td>135.530425</td>\n",
       "      <td>0.045299</td>\n",
       "      <td>2347.0</td>\n",
       "      <td>0.357993</td>\n",
       "      <td>195.0</td>\n",
       "      <td>0.029744</td>\n",
       "      <td>2986.0</td>\n",
       "      <td>0.455461</td>\n",
       "      <td>9966.0</td>\n",
       "      <td>0.484633</td>\n",
       "      <td>0.510396</td>\n",
       "    </tr>\n",
       "    <tr>\n",
       "      <th>62873</th>\n",
       "      <td>Universidade Federal Fluminense</td>\n",
       "      <td>Brazil</td>\n",
       "      <td>All sciences</td>\n",
       "      <td>2014–2017</td>\n",
       "      <td>1</td>\n",
       "      <td>1575.825657</td>\n",
       "      <td>91.926940</td>\n",
       "      <td>0.058336</td>\n",
       "      <td>1304.0</td>\n",
       "      <td>0.371510</td>\n",
       "      <td>99.0</td>\n",
       "      <td>0.028205</td>\n",
       "      <td>1311.0</td>\n",
       "      <td>0.373504</td>\n",
       "      <td>3305.0</td>\n",
       "      <td>0.380936</td>\n",
       "      <td>0.420376</td>\n",
       "    </tr>\n",
       "    <tr>\n",
       "      <th>62225</th>\n",
       "      <td>Universidade Federal de Santa Catarina</td>\n",
       "      <td>Brazil</td>\n",
       "      <td>All sciences</td>\n",
       "      <td>2014–2017</td>\n",
       "      <td>1</td>\n",
       "      <td>2596.592015</td>\n",
       "      <td>172.235697</td>\n",
       "      <td>0.066331</td>\n",
       "      <td>2032.0</td>\n",
       "      <td>0.409595</td>\n",
       "      <td>139.0</td>\n",
       "      <td>0.028019</td>\n",
       "      <td>1383.0</td>\n",
       "      <td>0.278774</td>\n",
       "      <td>5448.0</td>\n",
       "      <td>0.387979</td>\n",
       "      <td>0.418884</td>\n",
       "    </tr>\n",
       "    <tr>\n",
       "      <th>62009</th>\n",
       "      <td>Universidade Federal de Goiás</td>\n",
       "      <td>Brazil</td>\n",
       "      <td>All sciences</td>\n",
       "      <td>2014–2017</td>\n",
       "      <td>1</td>\n",
       "      <td>1192.211004</td>\n",
       "      <td>63.882870</td>\n",
       "      <td>0.053584</td>\n",
       "      <td>840.0</td>\n",
       "      <td>0.320611</td>\n",
       "      <td>69.0</td>\n",
       "      <td>0.026336</td>\n",
       "      <td>992.0</td>\n",
       "      <td>0.378626</td>\n",
       "      <td>2843.0</td>\n",
       "      <td>0.408653</td>\n",
       "      <td>0.445472</td>\n",
       "    </tr>\n",
       "  </tbody>\n",
       "</table>\n",
       "</div>"
      ],
      "text/plain": [
       "                                   University Country         Field  \\\n",
       "62765  Universidade Federal do Rio de Janeiro  Brazil  All sciences   \n",
       "62333       Universidade Federal de São Paulo  Brazil  All sciences   \n",
       "62873         Universidade Federal Fluminense  Brazil  All sciences   \n",
       "62225  Universidade Federal de Santa Catarina  Brazil  All sciences   \n",
       "62009           Universidade Federal de Goiás  Brazil  All sciences   \n",
       "\n",
       "          Period  Frac_counting     impact_P     P_top10  PP_top10  \\\n",
       "62765  2014–2017              1  4780.845925  311.112211  0.065075   \n",
       "62333  2014–2017              1  2991.923594  135.530425  0.045299   \n",
       "62873  2014–2017              1  1575.825657   91.926940  0.058336   \n",
       "62225  2014–2017              1  2596.592015  172.235697  0.066331   \n",
       "62009  2014–2017              1  1192.211004   63.882870  0.053584   \n",
       "\n",
       "       P_int_collab  PP_int_collab  P_industry_collab  PP_industry_collab  \\\n",
       "62765        4649.0       0.444455              423.0            0.040440   \n",
       "62333        2347.0       0.357993              195.0            0.029744   \n",
       "62873        1304.0       0.371510               99.0            0.028205   \n",
       "62225        2032.0       0.409595              139.0            0.028019   \n",
       "62009         840.0       0.320611               69.0            0.026336   \n",
       "\n",
       "         P_OA     PP_OA      A_F      PA_F   PA_F_MF  \n",
       "62765  4458.0  0.426195  12191.0  0.361633  0.445920  \n",
       "62333  2986.0  0.455461   9966.0  0.484633  0.510396  \n",
       "62873  1311.0  0.373504   3305.0  0.380936  0.420376  \n",
       "62225  1383.0  0.278774   5448.0  0.387979  0.418884  \n",
       "62009   992.0  0.378626   2843.0  0.408653  0.445472  "
      ]
     },
     "execution_count": 27,
     "metadata": {},
     "output_type": "execute_result"
    }
   ],
   "source": [
    "df [ df.Field == \"All sciences\" ].sort_values(by = \"PP_industry_collab\", ascending = False).head()"
   ]
  },
  {
   "cell_type": "markdown",
   "metadata": {},
   "source": [
    "A **UFRJ** aparece bem acima das demais, com 4% dos projetos. Parece, ainda assim, um valor pequeno. Vamos comparar com a média nacional:"
   ]
  },
  {
   "cell_type": "code",
   "execution_count": 28,
   "metadata": {},
   "outputs": [
    {
     "data": {
      "text/plain": [
       "0.022085765114950272"
      ]
     },
     "execution_count": 28,
     "metadata": {},
     "output_type": "execute_result"
    }
   ],
   "source": [
    "df [ df.Field == \"All sciences\" ][\"PP_industry_collab\"].mean()"
   ]
  },
  {
   "cell_type": "markdown",
   "metadata": {},
   "source": [
    "A **UFRJ** é a única universidade que está significativamente acima da média nacional, que é de cerca de 2.2%."
   ]
  },
  {
   "cell_type": "markdown",
   "metadata": {},
   "source": [
    "### 9.2 Análise por campo do conhecimento"
   ]
  },
  {
   "cell_type": "markdown",
   "metadata": {},
   "source": [
    "Enfim, vamos segregar os resultados por área."
   ]
  },
  {
   "cell_type": "code",
   "execution_count": 29,
   "metadata": {},
   "outputs": [
    {
     "name": "stdout",
     "output_type": "stream",
     "text": [
      "##################################\n",
      "# Biomedical and health sciences #\n",
      "##################################\n",
      "\n",
      "University                                        PP_industry_collab\n",
      "\n",
      "Universidade Federal da Bahia                     0.0381809715970821\n",
      "Universidade Federal do Paraná                    0.0314188071877412\n",
      "Universidade Federal de São Paulo                 0.0307389359855817\n",
      "University of São Paulo                           0.0274983793730787\n",
      "Universidade Federal de Santa Catarina            0.0264516129032258\n",
      "\n",
      "###########################\n",
      "# Life and earth sciences #\n",
      "###########################\n",
      "\n",
      "University                                        PP_industry_collab\n",
      "\n",
      "Universidade Federal Fluminense                   0.0420767716535433\n",
      "Universidade de Brasília                          0.0380593893768298\n",
      "Federal University of Rio Grande do Norte         0.037371763556424\n",
      "Universidade Federal do Rio de Janeiro            0.0358938053097345\n",
      "Rio de Janeiro State University                   0.0313358988455195\n",
      "\n",
      "####################################\n",
      "# Mathematics and computer science #\n",
      "####################################\n",
      "\n",
      "University                                        PP_industry_collab\n",
      "\n",
      "Universidade Federal do Ceará                     0.0426477121279431\n",
      "Federal University of Pernambuco                  0.0413545100389571\n",
      "Universidade Federal de Santa Catarina            0.0379984951091046\n",
      "Universidade Federal de São Paulo                 0.0378151260504202\n",
      "Rio de Janeiro State University                   0.0364640883977901\n",
      "\n",
      "#####################################\n",
      "# Physical sciences and engineering #\n",
      "#####################################\n",
      "\n",
      "University                                        PP_industry_collab\n",
      "\n",
      "Universidade Federal do Rio de Janeiro            0.0660970498146058\n",
      "Universidade Federal Fluminense                   0.0403201449713078\n",
      "Federal University of Rio Grande do Sul           0.0346573486415175\n",
      "Universidade Federal de Goiás                     0.0339524085896692\n",
      "Universidade Federal de Santa Catarina            0.0310171198388721\n",
      "\n",
      "##################################\n",
      "# Social sciences and humanities #\n",
      "##################################\n",
      "\n",
      "University                                        PP_industry_collab\n",
      "\n",
      "State University of Maringá                       0.0508474576271186\n",
      "Universidade Federal de Viçosa                    0.0317460317460317\n",
      "Universidade Federal de Santa Catarina            0.0298507462686567\n",
      "Universidade Federal de Goiás                     0.0225563909774436\n",
      "Universidade Federal de São Paulo                 0.0211480362537764\n",
      "\n"
     ]
    }
   ],
   "source": [
    "for field in fields:\n",
    "    top_5(df, field, \"PP_industry_collab\")"
   ]
  },
  {
   "cell_type": "markdown",
   "metadata": {},
   "source": [
    "A **UFRJ** novamente aparece em destaque, mas dessa vez na área de *Physical sciences and engineering*, na qual o índice de colaboração é de 6.6%. "
   ]
  },
  {
   "cell_type": "markdown",
   "metadata": {},
   "source": [
    "## 10. Principais destaques"
   ]
  },
  {
   "cell_type": "markdown",
   "metadata": {},
   "source": [
    "1. A produção de *Biomedical and Health Sciences* da USP, sozinha, é superior a produção de todas as demais universidades brasileiras que constam no ranking.\n",
    "\n",
    "- A Unicamp, no agregado de todas as ciências, tem um desempenho alto tanto na medida total de artigos publicados quanto no percentual destes que ficam entre os 10% mais citados no respectivo campo e ano.\n",
    "\n",
    "- Quando analisamos o percentual de artigos publicados entre os 10% de maior impacto, se destacam universidades menos 'badaladas', fora do sistema estadual paulista e que não estão entre as maiores universidades federais do país. Entre elas, estão a **UFC**, **UFBA**, **Ufscar** e **UFSC**\n",
    "\n",
    "- Quando segmentados por área do conhecimento percentuais de publicações de alto impacto, não há uma universidade que se destaque em todas as áreas. Assim, faz sentido apontar quais são as melhores **em cada campo**.\n",
    "\n",
    "- Apesar da UFU (Universidade Federal de Uberlândia) aparecer como a universidade mais produtiva (`PP_top10`) na área de *Biomedical and health sciences*, as pesquisas de destaque que encontrei na Web of Science são na interseção do campo com a área de *Life and earth sciences*. Em compensação, a **UFBA** (Universidade Federal da Bahia), que fica em 2º por esse critério, tem um volume grande de pesquisas na área de **viroses e doenças tropicais**. \n",
    "\n",
    "- A área *Life and earth sciences* é a única em que as duas maiores universidades aparecem como as mais produtivas em termos percentuais (indicador `PP_top10`): **Unicamp** em 1º e **USP** em 2º.\n",
    "\n",
    "- Os bons resultados da **UFPB**, que tem o maior indicador `PP_top10` da área de *Mathematics and computer science*, é [referendado pelo Shanghai Ranking](http://www.ufpb.br/antigo/content/matem%C3%A1tica-da-ufpb-entra-no-top-300-do-mundo).\n",
    "\n",
    "- Na área de humanas, onde os artigos costumam ser menos citados, as publicações de maior relevância nos indicadores do Web of Science costumam estar na interesecção com outra área. No caso da UFV, por exemplo, há publicações de impacto sobre a economia da engenharia florestal. Escolhi destacar pesquisas de humanas mais \"puras\", como economia rural, por exemplo.\n",
    "\n",
    "- 65.6% das publicações da área *Physical sciences and engineering* da **UERJ** são de acesso aberto. Ela é a segunda universidade com mais produções abertas no país. Nessa área específica, fica em primeiro e bastante acima das demais.\n",
    "\n",
    "- A Universidade Estadual de Maringá (**UEM**) é a universidade com mais pesquisadores mulheres – 54% do total. No campo de *Biomedical and health sciences*, o valor chega a 63.5%. Ela também lidera na área de *Life and earth sciences* e fica em segundo em *Physical sciences and engineering*.\n",
    "\n",
    "- **UERJ** e **UFRJ** têm altos índices de colaboração na área de *Physical sciences and engineering*. Na Web of Science, todas as produções do Instituto de Física da UFRJ aparecem como produções de ambas UFRJ e UERJ. **Isso faz algum sentido?**"
   ]
  },
  {
   "cell_type": "markdown",
   "metadata": {
    "collapsed": true
   },
   "source": [
    "## 11. Possíveis personagens"
   ]
  },
  {
   "cell_type": "markdown",
   "metadata": {},
   "source": [
    "Depois de fazer a análise dos dados do Lieden Ranking, pudemos fazer buscas manuais na interface da *Web of Science* para encontrar pesquisadores representativos das universidades e departamentos que se destacaram. Eles estão listados abaixo:"
   ]
  },
  {
   "cell_type": "markdown",
   "metadata": {},
   "source": [
    "### 11.1 Destaques em 'Biomedical and health sciences'"
   ]
  },
  {
   "cell_type": "markdown",
   "metadata": {},
   "source": [
    "**1. Dênis Coelho de Oliveira – UFU**\n",
    "\n",
    "[Lattes](http://buscatextual.cnpq.br/buscatextual/visualizacv.do?id=K4757061D2)\n",
    "\n",
    "Pesquisador e professor do Instituto de Biologia da Universidade Federal de Uberlândia, que é a universidade com melhor indicador `PP_top10` para a área de *Biomedical and health sciences*. Estuda anatomia e desenvolvimento vegetal. [Seu artigo de maior repercussão](https://doi.org/10.1016/j.jinsphys.2015.11.012) é sobre galhas – inchaços semelhantes a \"tumores\" que aparecem no tecido de plantas – causadas por insetos. Segundo os critérios do Lieden Ranking, o paper contou 2/3 dos pontos para as áreas de *Life and earth sciences* 1/3 para a área de *Biomedical and health sciences*.\n",
    "\n",
    "\n",
    "**2. Gúbio Soares Campos – UFBA**\n",
    "\n",
    "[Lattes](http://lattes.cnpq.br/4553891428822702)\n",
    "\n",
    "Coordenador do Laboratorio de Virologia do Instituto de Ciências da Saúde da UFBA, a 2ª universidade com maior impacto (`PP_top10`), em termos percentuais. Pesquisa, evidentemente, viroses. Em seu currículo Lattes, afirma ter encontrado as primeiras ocorrências do vírus Zika no Brasil, na cidade de Camaçari (BA), em 2015. Seu artigo de maior repercussão descreve justamente essa descoberta.\n",
    "\n",
    "**3. Federico Costa – UFBA**\n",
    "\n",
    "[Lattes](http://lattes.cnpq.br/9240469061681136)\n",
    "\n",
    "Argentino, é professor e pesquisador do Instituto de Saúde Coletiva da UFBA. Suas publicações de maior destaque são revisões de pesquisa: [uma sobre leptospirose](https://journals.plos.org/plosntds/article/file?id=10.1371/journal.pntd.0003898&type=printable) e [outra sobre o vírus Zika](https://www.arca.fiocruz.br/bitstream/icict/13967/2/Weaver%20SC%20Zika%20virus%20-%20History%2c%20emergence%2c%20biology%2c%20and%20prospects%20for%20control.pdf). Em seu currículo Lattes, afirma ser pesquisador visitante nas Universidade de Yale e na Universidade de Liverpool."
   ]
  },
  {
   "cell_type": "markdown",
   "metadata": {},
   "source": [
    "### 11.2 Destaques em 'Life and earth sciences'"
   ]
  },
  {
   "cell_type": "markdown",
   "metadata": {
    "collapsed": true
   },
   "source": [
    "**1. Roseane Fett – UFSC**\n",
    "\n",
    "[Lattes](http://lattes.cnpq.br/8462831533501212)\n",
    "\n",
    "Fez toda a carreira acadêmica na UFSC, onde dá aulas e coordena o Programa de Pós-Graduação em Ciência dos Alimentos. Entre outros temas, pesquisa as propriedades do **mel de abelhas**. A publicação de maior impacto da UFSC na Web of Science é, justamente, [uma revisão de literatura](https://doi.org/10.1016/j.foodchem.2015.09.051) sobre esse tema."
   ]
  },
  {
   "cell_type": "markdown",
   "metadata": {},
   "source": [
    "### 11.3 Destaques em 'Mathematics and computer science'"
   ]
  },
  {
   "cell_type": "markdown",
   "metadata": {},
   "source": [
    "**1. Daniel Pellegrino – UFPB**\n",
    "\n",
    "[Lattes](http://lattes.cnpq.br/1077711232112285)\n",
    "\n",
    "Professor da UFPB, onde fez sua graduação, coordena um grupo de pesquisa chamado \"Projeto Integrado de Análise\". Fez mestrado e doutorado na Unicamp. Seus dois artigos de mais impacto são [esta prova da sub-exponencialidade do raio de Bohr](http://eprints.ucm.es/29049/1/1310.2834v2.pdf) e este artigo exploratório sobre [espaços lineares](https://www-ams-org.ezproxy.cul.columbia.edu/journals/bull/2014-51-01/S0273-0979-2013-01421-6/S0273-0979-2013-01421-6.pdf).\n",
    "\n",
    "**2. Bruno Henrique Carvalho Ribeiro – UFPB**\n",
    "\n",
    "[Lattes](http://lattes.cnpq.br/9043204013012953)\n",
    "\n",
    "Fez graduação e mestrado em matemática na UFPB. Seu mestrado, porém, foi na Unicamp. É diretor do departamento de matemática da UFPB.\n"
   ]
  },
  {
   "cell_type": "markdown",
   "metadata": {},
   "source": [
    "### 11.4 Destaques em 'Physical sciences and engineering'"
   ]
  },
  {
   "cell_type": "markdown",
   "metadata": {},
   "source": [
    "**1. Eduardo Bedê Barros – UFC**\n",
    "\n",
    "[Lattes](http://lattes.cnpq.br/0233820096700167)\n",
    "\n",
    "Pesquisador, professor e diretor do departamento de Física da UFC (Universidade Federal do Ceará). Ele fez graduação, mestrado e doutorado na instituição, além de ter estudado por um período no MIT. A UFC é a universidade com o melhor indicador `PP_top10` do Brasil, destacando-se especialmente no setor de *Physical Sciences and Engineering*."
   ]
  },
  {
   "cell_type": "markdown",
   "metadata": {},
   "source": [
    "### 11.5 Destaques em 'Social sciences and humanities'"
   ]
  },
  {
   "cell_type": "markdown",
   "metadata": {},
   "source": [
    "**1. Dênis Antônio da Cunha – UFV**\n",
    "\n",
    "[Lattes](http://lattes.cnpq.br/1033658951252242)\n",
    "\n",
    "Fez graduação, mestrado e doutorado em Economia Aplicada na  UFV (Universidade Federal de Viçosa). Lidera um grupo de pesquisa sobre a relação da economia com os recursos ambientais e naturais. Dá aulas nos programas de pós-graduação em Economia Aplicada e Extensão Rural. O [artigo](https://www.locus.ufv.br/bitstream/handle/123456789/22800/artigo.pdf) que encontrei na Web of Science estuda o uso de sistemas de irrigação como forma de adaptação às mudanças climáticas no Brasil.\n",
    "\n",
    "**2. João Eustáquio de Lima – UFV**\n",
    "\n",
    "Desde 1981, é professor do departamento de economia rural da UFV. Fez a graduação em agromomia na própria universidade, onde também fez mestrado em economia rural. Depois, fez outro mestrado e doutorado na Michigan State University. Seu nome foi indicado por Dênis Antônio da Cunha, listado acima, como \"o orientador mais experiente do departamento\".\n",
    "\n",
    "[Lattes](http://lattes.cnpq.br/0920624030229788)"
   ]
  },
  {
   "cell_type": "markdown",
   "metadata": {},
   "source": [
    "### 11.6 Destaque em participação feminina na pesquisa"
   ]
  },
  {
   "cell_type": "markdown",
   "metadata": {},
   "source": [
    "**1. Francielle Sato – UEM**\n",
    "\n",
    "[Lattes](http://lattes.cnpq.br/7314370428188000)\n",
    "\n",
    "Física e professora, fez toda sua carreira acadêmica na UEM. Dá aulas para graduação e pós, além de participar de grupos de pesquisa que tratam, em linhas gerais, de fármacos e biocombustível. Nesse contexto, sua espcecialide são *fenômenos fototérmicos*. Participou [deste](https://www-sciencedirect-com.ezproxy.cul.columbia.edu/science/article/pii/S0308814613019353?via%3Dihub) artigo, que está listado entre os mais citados do campo na Web of Science. Dos sete autores, cinco são mulheres.\n",
    "\n",
    "**2. Linnyer Beatrys Ruiz Aylon – UEM**\n",
    "\n",
    "[Lattes](http://lattes.cnpq.br/2872064505456567)\n",
    "\n",
    "Citada em [release](http://www.noticias.uem.br/index.php?view=article&id=23776) da universidade sobre paridade de gênero, publicado quando o Lieden Ranking 2019 foi divulgado. É professora do Departamento de Informática da UEM. Ainda segundo o release, recebeu, em 2013, o prêmio IEEE Women in Engineering. Atua, especificamente, em microeletrônica. Também tem graduação em teologia (!)\n"
   ]
  },
  {
   "cell_type": "markdown",
   "metadata": {},
   "source": [
    "### 11.7 Destaques em colaboração internacional na pesquisa"
   ]
  },
  {
   "cell_type": "markdown",
   "metadata": {},
   "source": [
    "**1. Miguel Boavista Quartin – UFRJ**\n",
    "\n",
    "[Lattes](http://lattes.cnpq.br/3080181268936724)\n",
    "\n",
    "Graduado em Engenharia Eletrônica e doutor em Física pela UFRJ, pesquisa, resumidamente, *comsologia*. Fez pós-doutorado fora do país. Coordena quatro grupos de pesquisa. Publicou diversos artigos como [este](http://diposit.ub.edu/dspace/bitstream/2445/119262/1/670717.pdf), de alto impacto, que foi resultado da colaboração entre pesquisadores de 42 instituições, espalhadas por 15 países."
   ]
  }
 ],
 "metadata": {
  "kernelspec": {
   "display_name": "Python 3",
   "language": "python",
   "name": "python3"
  },
  "language_info": {
   "codemirror_mode": {
    "name": "ipython",
    "version": 3
   },
   "file_extension": ".py",
   "mimetype": "text/x-python",
   "name": "python",
   "nbconvert_exporter": "python",
   "pygments_lexer": "ipython3",
   "version": "3.6.7"
  }
 },
 "nbformat": 4,
 "nbformat_minor": 2
}
