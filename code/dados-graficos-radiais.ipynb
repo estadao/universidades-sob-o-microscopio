{
 "cells": [
  {
   "cell_type": "markdown",
   "metadata": {},
   "source": [
    "Esse script acessa os dados do Lieden Ranking e gera arquivos json para a visualização de dados montada a partir da biblioteca `Highcharts`."
   ]
  },
  {
   "cell_type": "code",
   "execution_count": 1,
   "metadata": {
    "collapsed": true
   },
   "outputs": [],
   "source": [
    "import json\n",
    "import pandas as pd\n",
    "import random"
   ]
  },
  {
   "cell_type": "markdown",
   "metadata": {},
   "source": [
    "Primeiro, precisamos ler o arquivo original."
   ]
  },
  {
   "cell_type": "code",
   "execution_count": 2,
   "metadata": {
    "collapsed": true
   },
   "outputs": [],
   "source": [
    "def read_excel(fp, sheet):\n",
    "    '''\n",
    "    Lê uma planilha, especificada pelo nome 'sheets',\n",
    "    do arquivo xls especificado em 'fp'.\n",
    "    '''\n",
    "\n",
    "    with pd.ExcelFile(fp) as xls:\n",
    "        df = pd.read_excel(xls, sheet)\n",
    "        \n",
    "    return df"
   ]
  },
  {
   "cell_type": "markdown",
   "metadata": {},
   "source": [
    "A função abaixo separa a string que define um intervalo temporal em duas colunas com valores do tipo `int`."
   ]
  },
  {
   "cell_type": "code",
   "execution_count": 3,
   "metadata": {
    "collapsed": true
   },
   "outputs": [],
   "source": [
    "def split_years(row):\n",
    "    '''\n",
    "    Cria colunas contendo o ano final\n",
    "    e o ano inicial da coluna 'Period'\n",
    "    '''\n",
    "    \n",
    "    years = row.Period.split(\"–\")\n",
    "    \n",
    "    Period_start = years[0]\n",
    "    Period_end   = years[1]\n",
    "    \n",
    "    return pd.Series({\n",
    "        \"Period_start\" : int(Period_start),\n",
    "        \"Period_end\"   : int(Period_end)\n",
    "    })"
   ]
  },
  {
   "cell_type": "markdown",
   "metadata": {},
   "source": [
    "As funções abaixo renomeiam alguns campos para que a visualização fique consistente em linguagem e padronização."
   ]
  },
  {
   "cell_type": "code",
   "execution_count": 4,
   "metadata": {
    "collapsed": true
   },
   "outputs": [],
   "source": [
    "def rename_field(field):\n",
    "    '''\n",
    "    Altera o padrão de nomenclatura \n",
    "    dos campos de conhecimento.\n",
    "    '''\n",
    "\n",
    "    corresp = {\n",
    "        \"All sciences\" : \"Todos os campos\",\n",
    "        \"Biomedical and health sciences\" : \"Saúde\",\n",
    "        \"Life and earth sciences\" : \"Biológicas\",\n",
    "        \"Physical sciences and engineering\" : \"Física\",\n",
    "        \"Social sciences and humanities\" : \"Humanidades\",\n",
    "        \"Mathematics and computer science\" : \"Matemática\"\n",
    "    }\n",
    "\n",
    "    return corresp[field]"
   ]
  },
  {
   "cell_type": "code",
   "execution_count": 5,
   "metadata": {
    "collapsed": true
   },
   "outputs": [],
   "source": [
    "def rename_univ(univ):\n",
    "    '''\n",
    "    Altera o padrão de nomenclatura\n",
    "    das universidades brasileiras.\n",
    "    '''\n",
    "\n",
    "    corresp = {\n",
    "         'Federal University of Paraíba': 'UFPB – Univ. Fed. da Paraíba',\n",
    "         'Federal University of Pernambuco': 'UFPE – Univ. Fed. de Pernambuco',\n",
    "         'Federal University of Rio Grande do Norte': 'UFRN – Univ. Fed. do Rio Grande do Norte',\n",
    "         'Federal University of Rio Grande do Sul': 'UFRGS – Univ. Fed. do Rio Grande do Sul',\n",
    "         'Federal University of Santa Maria': 'UFSM – Univ. Fed. de Santa Maria',\n",
    "         'Federal University of São Carlos': 'Ufscar – Univ. Fed. de São Carlos',\n",
    "         'Federal University of Uberlândia': 'UFU – Univ. Fed. de Uberlândia',\n",
    "         'Rio de Janeiro State University': 'UERJ – Univ. Est. do Rio de Janeiro',\n",
    "         'State University of Maringá': 'UEM – Univ. Est. de Maringá',\n",
    "         'Universidade Estadual Paulista': 'Unesp – Univ. Est. Paulista',\n",
    "         'Universidade Federal Fluminense': 'UFF – Univ. Fed. Fluminense ',\n",
    "         'Universidade Federal da Bahia': 'UFBA – Univ. Fed. da Bahia',\n",
    "         'Universidade Federal de Goiás': 'UFGO – Univ. Fed. de Goiás',\n",
    "         'Universidade Federal de Minas Gerais': 'UFMG – Univ. Fed. de Minas Gerais',\n",
    "         'Universidade Federal de Santa Catarina': 'UFSC – Univ. Fed. de Santa Catarina',\n",
    "         'Universidade Federal de São Paulo': 'Unifesp – Univ. Fed. de São Paulo',\n",
    "         'Universidade Federal de Viçosa': 'UFV – Univ. Fed. de Viçosa',\n",
    "         'Universidade Federal do Ceará': 'UFC – Univ. Fed. do Ceará',\n",
    "         'Universidade Federal do Paraná': 'UFPR - Univ. Fed. do Paraná',\n",
    "         'Universidade Federal do Rio de Janeiro': 'UFRJ – Univ. Fed. do Rio de Janeiro',\n",
    "         'Universidade de Brasília': 'UnB – Univ. de Brasília',\n",
    "         'University of Campinas': 'Unicamp – Univ. Est. de Campinas',\n",
    "         'University of São Paulo': 'USP – Univ. de São Paulo'\n",
    "    }\n",
    "\n",
    "    return corresp[univ]"
   ]
  },
  {
   "cell_type": "markdown",
   "metadata": {},
   "source": [
    "Abaixo, geramos uma cor hexadecimal aleatória. Isso serve apenas para facilitar nosso trabalho no Adobe Illustrator"
   ]
  },
  {
   "cell_type": "code",
   "execution_count": 6,
   "metadata": {
    "collapsed": true
   },
   "outputs": [],
   "source": [
    "def randomize_color():\n",
    "    r = lambda: random.randint(0,255)\n",
    "    return ('#%02X%02X%02X' % (r(),r(),r()))"
   ]
  },
  {
   "cell_type": "markdown",
   "metadata": {},
   "source": [
    "Agora, a função para extrair os dados do csv e montar um arquivo json com universidades ordendas por uma métrica de resultado."
   ]
  },
  {
   "cell_type": "code",
   "execution_count": 12,
   "metadata": {
    "code_folding": [
     57,
     74
    ],
    "collapsed": true
   },
   "outputs": [],
   "source": [
    "def extract_top_univs(df, country, period_end, n_items, ordering_col, filename, color = \"#FFB6C1\"):\n",
    "    '''\n",
    "    A função seleciona as 'n_items' universidades com maior produtividade no país e \n",
    "    período selecionados, sempre considerando todas as áreas do conhecimento possíveis. \n",
    "    \n",
    "    A variável 'ordering_col' deve ser usada para determinar qual coluna será usada para mensurar \n",
    "    produtividade. Em geral, usamos 'impact_P' para mensurar o total de artigos publicados, 'P_top10'\n",
    "    para mensurar o total de artigos publicados entre os 5% de maior impoacto no mundo, e 'PP_top10'\n",
    "    para mensurar o percentual de artigos publicados pela universidade que estão entre estes 5%.\n",
    "    \n",
    "    Depois de fazer essa seleção, a função recupera também o indicador passado em 'ordering_col'\n",
    "    para todos os campos do conhecimento das universidades selecionados.\n",
    "    \n",
    "    É possível selecionar uma cor customizada para o json, também.\n",
    "    \n",
    "    O arquivo é salvo no diretório de visualização usando o nome de arquivo estipulado em 'filename'\n",
    "    \n",
    "    Abaixo, um exemplo de output:\n",
    "    \n",
    "    >>> extract_top_univs(df = df, \n",
    "                          country = \"Brazil\",\n",
    "                          period_end = 2017,\n",
    "                          n_items = 2,\n",
    "                          ordering_col = 'impact_P', \n",
    "                          filename = 'exemplo.csv')\n",
    "    \n",
    "    >>> ../viz/data/exemplo.json\n",
    "    \n",
    "    series : [\n",
    "     {\n",
    "       color: \"FFB61\",\n",
    "       data: [\n",
    "           { name : \"SAÚDE\", y : 8391 },\n",
    "           { name : \"BIOLÓGICAS\", y : 3703 },\n",
    "           { name : \"MATEMÁTICA\", y : 1060},\n",
    "           { name : \"FÍSICA\", y : 3248},\n",
    "           { name : \"HUMANIDADES, y : 444 }\n",
    "       ],\n",
    "       name: \"USP\",\n",
    "       type: \"areaspline\"\n",
    "     },\n",
    "    {\n",
    "       color: \"FFB61\",\n",
    "       data: [\n",
    "           { name : \"SAÚDE\", y : 839 },\n",
    "           { name : \"BIOLÓGICAS\", y : 373 },\n",
    "           { name : \"MATEMÁTICA\", y : 160},\n",
    "           { name : \"FÍSICA\", y : 348},\n",
    "           { name : \"HUMANIDADES, y : 41 }\n",
    "       ],\n",
    "       name: \"UFXYZ\",\n",
    "       type: \"areaspline\"\n",
    "     }\n",
    "    ]\n",
    "    '''\n",
    "\n",
    "    # 1. Seleciona e ordena as 'n_items' universidades pelo valor selecionado em 'ordering_col'\n",
    "    univs = df [ \n",
    "               (df.Country == country) &  \n",
    "               (df.Frac_counting == 1) &\n",
    "               (df.Field == \"All sciences\") &\n",
    "               (df.Period_end == period_end)\n",
    "              ]\n",
    "        \n",
    "    univs = univs[ [ \"University\", ordering_col, \"Field\" ] ]    \n",
    "        \n",
    "    univs = univs.sort_values(by = ordering_col, ascending = False)\n",
    "        \n",
    "    univs = univs.head(n_items).University.tolist()\n",
    "    \n",
    "    # 2. Cria o objeto JSON e calcula os valores para todos os campos\n",
    "    json_obj = { \"series\" : [ ] }\n",
    "    \n",
    "    fields = [ field for field in df.Field.unique() if field != \"All sciences\"]\n",
    "    \n",
    "    if color == 'random':\n",
    "        used_colors = [ ]\n",
    "        \n",
    "    for univ in univs:\n",
    "        \n",
    "        # Objeto com dados da universidade específica\n",
    "        # alguns parâmetros universais\n",
    "        inner_obj = { }\n",
    "        \n",
    "        if color == 'random':\n",
    "            \n",
    "            this_color = ''\n",
    "            while True:\n",
    "                \n",
    "                this_color = randomize_color()\n",
    "                \n",
    "                if this_color in used_colors:\n",
    "                    this_color = randomize_color()\n",
    "                    \n",
    "                else:\n",
    "                    used_colors.append(this_color)\n",
    "                    break\n",
    "                    \n",
    "        else:\n",
    "            this_color = color\n",
    "            \n",
    "        inner_obj[\"color\"] = this_color\n",
    "        inner_obj[\"type\"] = \"areaspline\"\n",
    "        inner_obj[\"name\"] = rename_univ(univ)\n",
    "        inner_obj[\"data\"] = [ ]\n",
    "\n",
    "        for field in fields:\n",
    "            \n",
    "            # Objeto para guardar os números de cada campo\n",
    "            field_data = { }\n",
    "            field_data[\"name\"] = rename_field(field).upper()\n",
    "\n",
    "            # Seleciona os dados da universidade e campo desejados\n",
    "            temp = df [              \n",
    "                (df.University == univ) &\n",
    "                (df.Country == country) & \n",
    "                (df.Field == field ) &\n",
    "                (df.Frac_counting == 1) &\n",
    "                (df.Period_end == period_end)\n",
    "              ]\n",
    "\n",
    "            assert temp.shape[0] == 1\n",
    "            temp = temp.reset_index()\n",
    "\n",
    "            field_data[\"y\"] = round(temp.loc[0, ordering_col], 4)\n",
    "\n",
    "            inner_obj[\"data\"].append(field_data)\n",
    "                \n",
    "        json_obj[\"series\"].append(inner_obj)\n",
    "        \n",
    "    # Salva o JSON\n",
    "    with open(f\"../viz/data/{filename}.json\", \"w+\") as file:\n",
    "        json.dump(json_obj, file, indent = 2)\n",
    "        \n",
    "            \n",
    "            \n",
    "            \n"
   ]
  },
  {
   "cell_type": "markdown",
   "metadata": {},
   "source": [
    "Aqui, uma função que cria um json com o agregado de toda a produção cientítica do Brasil. É uma adaptação simples da função acima."
   ]
  },
  {
   "cell_type": "code",
   "execution_count": 13,
   "metadata": {
    "code_folding": [],
    "collapsed": true
   },
   "outputs": [],
   "source": [
    "def get_aggregate(df, country, period_end, measure, filename, opp = 'sum', color = \"#FFB6C1\"):\n",
    "\n",
    "    # 1. Seleciona o país e faz as somas\n",
    "    country_df = df [ \n",
    "               (df.Country == country) &  \n",
    "               (df.Frac_counting == 1) &\n",
    "               (df.Period_end == period_end) &\n",
    "               (df.Field != \"All sciences\")\n",
    "              ]\n",
    "        \n",
    "    country_df = country_df[ [ \"University\", measure, \"Field\" ] ] \n",
    "    \n",
    "    # Cria o objeto json\n",
    "    json_obj = { \"series\" : [ ] }\n",
    "    \n",
    "    fields = [ field for field in country_df.Field.unique() if field != \"All sciences\"]\n",
    "            \n",
    "    inner_obj = { }\n",
    "    inner_obj[\"color\"] = color\n",
    "    inner_obj[\"type\"] = \"areaspline\"\n",
    "    inner_obj[\"name\"] = country\n",
    "    inner_obj[\"data\"] = [ ]\n",
    "    \n",
    "    # Faz as somas necessárias\n",
    "    for field in fields:\n",
    "                    \n",
    "        if opp == 'sum':\n",
    "            field_data = {\n",
    "                \"name\" : rename_field(field).upper(),\n",
    "                \"y\" : df [ df.Field == field][measure].sum()\n",
    "            }\n",
    "        \n",
    "        elif opp == 'mean':\n",
    "            field_data = {\n",
    "                \"name\" : rename_field(field),\n",
    "                \"y\" : df [ df.Field == field][measure].mean()\n",
    "            }\n",
    "\n",
    "        inner_obj[\"data\"].append(field_data)\n",
    "    \n",
    "    json_obj[\"series\"].append(inner_obj)\n",
    "        \n",
    "    # Salva o JSON\n",
    "    with open(f\"../viz/data/{filename}.json\", \"w+\") as file:\n",
    "        json.dump(json_obj, file, indent = 2)"
   ]
  },
  {
   "cell_type": "markdown",
   "metadata": {},
   "source": [
    "Enfim, precisamos gerar um arquivo CSV com coordenadas X e Y para posicionar os dados em um scatter plot."
   ]
  },
  {
   "cell_type": "code",
   "execution_count": 14,
   "metadata": {
    "collapsed": true
   },
   "outputs": [],
   "source": [
    "def get_xy(df, x_col, y_col, period_end, country, filename):\n",
    "    \n",
    "    data = df [ \n",
    "               (df.Country == country) &  \n",
    "               (df.Frac_counting == 1) &\n",
    "               (df.Period_end == period_end) &\n",
    "               (df.Field == \"All sciences\")\n",
    "              ]\n",
    "\n",
    "    data = data [ [\"University\", x_col, y_col ]]\n",
    "    \n",
    "    def change_univ(row):\n",
    "        university = rename_univ(row.University)\n",
    "        return pd.Series({\"University\" : university})\n",
    "    \n",
    "    data[\"University\"] = data.apply(change_univ, axis = 1)\n",
    "    \n",
    "    data.to_csv(f\"../viz/data/{filename}.csv\", index = False)\n",
    "    "
   ]
  },
  {
   "cell_type": "markdown",
   "metadata": {},
   "source": [
    "E, finalmente, a execução do código."
   ]
  },
  {
   "cell_type": "code",
   "execution_count": 17,
   "metadata": {
    "collapsed": true
   },
   "outputs": [],
   "source": [
    "def main():\n",
    "    \n",
    "    df = read_excel(fp = \"../data/CWTS Leiden Ranking 2019.xlsx\", \n",
    "                    sheet = \"Results\")\n",
    "    \n",
    "    df = df.join( df.apply( split_years, axis = 1 ) )\n",
    "    \n",
    "    # Cinco com maior total de artigos, Brasil\n",
    "    extract_top_univs(df = df, \n",
    "                      country = \"Brazil\",\n",
    "                      period_end = 2017,\n",
    "                      n_items = 5,\n",
    "                      ordering_col = 'impact_P', \n",
    "                      filename = 'impact_P')\n",
    "\n",
    "               \n",
    "    # Cinco com maior total de artigos top 10%, Brasil\n",
    "    extract_top_univs(df = df, \n",
    "                      country = \"Brazil\",\n",
    "                      period_end = 2017,\n",
    "                      n_items = 5,\n",
    "                      ordering_col = 'P_top10', \n",
    "                      filename = 'P_top10')\n",
    "    \n",
    "    # Cinco com maior percentual de artigos entre os top 10% globais\n",
    "    extract_top_univs(df = df, \n",
    "                  country = \"Brazil\",\n",
    "                  period_end = 2017,\n",
    "                  n_items = 5,\n",
    "                  ordering_col = 'PP_top10', \n",
    "                  filename = 'PP_top10')\n",
    "    \n",
    "                   \n",
    "    # Todas as universidades brasileiras – total de artigos top 10%\n",
    "    extract_top_univs(df = df, \n",
    "                      country = \"Brazil\",\n",
    "                      period_end = 2017,\n",
    "                      n_items = 50,\n",
    "                      ordering_col = 'P_top10', \n",
    "                      filename = 'todas_unis_P_top10',\n",
    "                      color = 'random')\n",
    "\n",
    "    # Soma total de artigos do Brasil\n",
    "    get_aggregate(df = df, \n",
    "                  country = \"Brazil\",\n",
    "                  period_end = 2017,\n",
    "                  measure = 'impact_P', \n",
    "                  opp = 'sum',\n",
    "                  filename = 'soma_brasil')\n",
    "\n",
    "    # Coordenadas XY para o scatter plot\n",
    "    get_xy(df, x_col = \"PP_top10\", y_col = \"P_top10\", period_end = 2017, country = \"Brazil\", filename = \"coordenadas_scatter\")"
   ]
  },
  {
   "cell_type": "code",
   "execution_count": 18,
   "metadata": {
    "collapsed": true,
    "scrolled": true
   },
   "outputs": [],
   "source": [
    "if __name__ == \"__main__\":\n",
    "    main()"
   ]
  }
 ],
 "metadata": {
  "kernelspec": {
   "display_name": "Python 3",
   "language": "python",
   "name": "python3"
  },
  "language_info": {
   "codemirror_mode": {
    "name": "ipython",
    "version": 3
   },
   "file_extension": ".py",
   "mimetype": "text/x-python",
   "name": "python",
   "nbconvert_exporter": "python",
   "pygments_lexer": "ipython3",
   "version": "3.6.7"
  }
 },
 "nbformat": 4,
 "nbformat_minor": 2
}
